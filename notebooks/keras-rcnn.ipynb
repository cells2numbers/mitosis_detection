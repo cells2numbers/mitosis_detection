{
 "cells": [
  {
   "cell_type": "code",
   "execution_count": 1,
   "metadata": {
    "collapsed": true
   },
   "outputs": [],
   "source": [
    "%matplotlib inline"
   ]
  },
  {
   "cell_type": "code",
   "execution_count": 2,
   "metadata": {},
   "outputs": [
    {
     "name": "stderr",
     "output_type": "stream",
     "text": [
      "Using TensorFlow backend.\n"
     ]
    }
   ],
   "source": [
    "import keras\n",
    "import keras_rcnn.datasets.malaria\n",
    "import keras_rcnn.models\n",
    "import keras_rcnn.preprocessing\n",
    "import matplotlib\n",
    "import numpy\n",
    "import sklearn.model_selection\n",
    "import tensorflow\n",
    "import keras.backend\n",
    "import keras.engine\n",
    "import keras.layers\n",
    "\n",
    "import keras_resnet.models\n",
    "import keras_rcnn.backend\n",
    "import keras_rcnn.classifiers\n",
    "import keras_rcnn.datasets.malaria\n",
    "import keras_rcnn.layers\n",
    "import keras_rcnn.preprocessing"
   ]
  },
  {
   "cell_type": "code",
   "execution_count": 3,
   "metadata": {
    "collapsed": true
   },
   "outputs": [],
   "source": [
    "configuration = tensorflow.ConfigProto()\n",
    "\n",
    "configuration.gpu_options.allow_growth = True\n",
    "\n",
    "configuration.gpu_options.visible_device_list = \"0\"\n",
    "\n",
    "session = tensorflow.Session(config=configuration)\n",
    "\n",
    "keras.backend.set_session(session)"
   ]
  },
  {
   "cell_type": "code",
   "execution_count": 4,
   "metadata": {
    "collapsed": true
   },
   "outputs": [],
   "source": [
    "training, test = keras_rcnn.datasets.malaria.load_data()\n",
    "\n",
    "training, validation = sklearn.model_selection.train_test_split(training)\n",
    "\n",
    "classes = {\"rbc\": 1, \"not\":2}\n",
    "\n",
    "generator = keras_rcnn.preprocessing.ObjectDetectionGenerator()\n",
    "\n",
    "validation_data = keras_rcnn.preprocessing.ObjectDetectionGenerator()\n",
    "\n",
    "generator = generator.flow(training, classes, (512, 512), 1.0)\n",
    "\n",
    "validation_data = validation_data.flow(validation, classes, (512, 512), 1.0)"
   ]
  },
  {
   "cell_type": "markdown",
   "metadata": {},
   "source": [
    "## Training"
   ]
  },
  {
   "cell_type": "code",
   "execution_count": 5,
   "metadata": {},
   "outputs": [
    {
     "name": "stderr",
     "output_type": "stream",
     "text": [
      "/storage/com/github/broadinstitute/keras-rcnn/keras_rcnn/models.py:178: UserWarning: Output \"object_detection_1\" missing from loss dictionary. We assume this was done on purpose, and we will not be expecting any data to be passed to \"object_detection_1\" during training.\n",
      "  super(RCNN, self).compile(optimizer, None)\n",
      "/storage/com/github/broadinstitute/keras-rcnn/keras_rcnn/models.py:178: UserWarning: Output \"proposal_target_1\" missing from loss dictionary. We assume this was done on purpose, and we will not be expecting any data to be passed to \"proposal_target_1\" during training.\n",
      "  super(RCNN, self).compile(optimizer, None)\n"
     ]
    }
   ],
   "source": [
    "image = keras.layers.Input((None, None, 3))\n",
    "\n",
    "model = keras_rcnn.models.RCNN(image, classes=3)\n",
    "\n",
    "optimizer = keras.optimizers.Adam(0.001)\n",
    "\n",
    "model.compile(optimizer)"
   ]
  },
  {
   "cell_type": "code",
   "execution_count": null,
   "metadata": {},
   "outputs": [
    {
     "name": "stderr",
     "output_type": "stream",
     "text": [
      "/usr/local/lib/python3.6/site-packages/tensorflow/python/ops/gradients_impl.py:95: UserWarning: Converting sparse IndexedSlices to a dense Tensor of unknown shape. This may consume a large amount of memory.\n",
      "  \"Converting sparse IndexedSlices to a dense Tensor of unknown shape. \"\n"
     ]
    },
    {
     "name": "stdout",
     "output_type": "stream",
     "text": [
      "Epoch 1/10\n",
      "511/512 [============================>.] - ETA: 0s - loss: 0.9900"
     ]
    }
   ],
   "source": [
    "callbacks = [\n",
    "    keras.callbacks.CSVLogger(\"./keras-rcnn-training-0.001.csv\"),\n",
    "    keras.callbacks.ModelCheckpoint(\"./keras-rcnn-checkpoint-0.001.hdf5\", monitor=\"loss\")\n",
    "]\n",
    "\n",
    "model.fit_generator(\n",
    "    epochs=10,\n",
    "    generator=generator,\n",
    "    steps_per_epoch=512,\n",
    "    validation_data=validation_data, \n",
    "    validation_steps=512\n",
    ")"
   ]
  },
  {
   "cell_type": "code",
   "execution_count": null,
   "metadata": {
    "collapsed": true
   },
   "outputs": [],
   "source": [
    "model.load_weights(\"./keras-rcnn-checkpoint-0.001.hdf5\")"
   ]
  },
  {
   "cell_type": "code",
   "execution_count": null,
   "metadata": {
    "collapsed": true
   },
   "outputs": [],
   "source": [
    "x = generator.next()[0]\n",
    "\n",
    "%time y_bounding_boxes, y_proposals, y_scores = model.predict(x)\n",
    "\n",
    "y_scores = numpy.argmax(y_scores[0], -1)\n",
    "\n",
    "batch_index = 0\n",
    "\n",
    "# remove background bounding boxes\n",
    "y_bounding_boxes = y_bounding_boxes[:, :, 4:]\n",
    "\n",
    "class_index = 1\n",
    "\n",
    "a = y_bounding_boxes[batch_index, numpy.where(y_scores == class_index)]\n",
    "\n",
    "m, n = class_index * 4, (class_index * 4) + 4\n",
    "\n",
    "a = a[:, :, m:n]\n",
    "\n",
    "class_index = 2\n",
    "\n",
    "b = y_bounding_boxes[batch_index, numpy.where(y_scores == class_index)]\n",
    "\n",
    "m, n = class_index * 4, (class_index * 4) + 4\n",
    "\n",
    "b = b[:, :, m:n]"
   ]
  },
  {
   "cell_type": "code",
   "execution_count": null,
   "metadata": {
    "collapsed": true
   },
   "outputs": [],
   "source": [
    "fig, ax = matplotlib.pyplot.subplots(1)\n",
    "\n",
    "oboxes = []\n",
    "\n",
    "ax.imshow(x[1][0])\n",
    "\n",
    "for ii in range(0, a.shape[1]):\n",
    "    rect = matplotlib.patches.Rectangle(\n",
    "        (\n",
    "            a[0][ii][0],\n",
    "            a[0][ii][1]\n",
    "        ), \n",
    "        a[0][ii][2] - a[0][ii][0], \n",
    "        a[0][ii][3] - a[0][ii][1], \n",
    "        linewidth=1,\n",
    "        edgecolor='g',\n",
    "        facecolor='none'\n",
    "    )\n",
    "\n",
    "    oboxes.append(rect)\n",
    "\n",
    "    pc = matplotlib.collections.PatchCollection(oboxes)\n",
    "\n",
    "    ax.add_patch(rect)\n",
    "\n",
    "matplotlib.pyplot.show()"
   ]
  },
  {
   "cell_type": "code",
   "execution_count": null,
   "metadata": {
    "collapsed": true
   },
   "outputs": [],
   "source": []
  }
 ],
 "metadata": {
  "kernelspec": {
   "display_name": "Python 3",
   "language": "python",
   "name": "python3"
  },
  "language_info": {
   "codemirror_mode": {
    "name": "ipython",
    "version": 3
   },
   "file_extension": ".py",
   "mimetype": "text/x-python",
   "name": "python",
   "nbconvert_exporter": "python",
   "pygments_lexer": "ipython3",
   "version": "3.6.1"
  }
 },
 "nbformat": 4,
 "nbformat_minor": 2
}
