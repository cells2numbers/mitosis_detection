{
 "cells": [
  {
   "cell_type": "markdown",
   "metadata": {
    "deletable": true,
    "editable": true
   },
   "source": [
    "Convert png images to rgb"
   ]
  },
  {
   "cell_type": "code",
   "execution_count": 2,
   "metadata": {
    "collapsed": false,
    "deletable": true,
    "editable": true
   },
   "outputs": [],
   "source": [
    "%matplotlib notebook \n",
    "import numpy\n",
    "import os\n",
    "import skimage.color\n",
    "import skimage.io\n",
    "import skimage.exposure\n",
    "import skimage.restoration\n",
    "import matplotlib\n",
    "import matplotlib.pyplot"
   ]
  },
  {
   "cell_type": "code",
   "execution_count": 3,
   "metadata": {
    "collapsed": false,
    "deletable": true,
    "editable": true
   },
   "outputs": [],
   "source": [
    "image_dir = '../data/cetres.b/'\n",
    "output_dir = '../data/cetres.b_adapted/'\n",
    "image_file_list = os.listdir(image_dir)\n"
   ]
  },
  {
   "cell_type": "code",
   "execution_count": 4,
   "metadata": {
    "collapsed": false
   },
   "outputs": [
    {
     "name": "stderr",
     "output_type": "stream",
     "text": [
      "/usr/local/lib/python3.6/site-packages/skimage/util/dtype.py:122: UserWarning: Possible precision loss when converting from float64 to uint16\n",
      "  .format(dtypeobj_in, dtypeobj_out))\n"
     ]
    }
   ],
   "source": [
    "# Load an example image\n",
    "img = skimage.io.imread('../data/cetres.b/refdataB_C2_001.png')\n",
    "img = skimage.color.rgb2gray(img)\n",
    "\n",
    "# Contrast stretching\n",
    "p2, p98 = numpy.percentile(img, (2, 98))\n",
    "img_rescale = skimage.exposure.rescale_intensity(img, in_range=(p2, p98))\n",
    "\n",
    "# Equalization\n",
    "img_eq = skimage.exposure.equalize_hist(img)\n",
    "\n",
    "# Adaptive Equalization\n",
    "img_adapteq = skimage.exposure.equalize_adapthist(img, clip_limit=0.05)\n",
    "\n",
    "def plot_img_and_hist(image, axes, bins=256):\n",
    "    \"\"\"Plot an image along with its histogram and cumulative histogram.\n",
    "\n",
    "    \"\"\"\n",
    "    image = skimage.img_as_float(image)\n",
    "    ax_img, ax_hist = axes\n",
    "    ax_cdf = ax_hist.twinx()\n",
    "\n",
    "    # Display image\n",
    "    ax_img.imshow(image, cmap=matplotlib.pyplot.cm.gray)\n",
    "    ax_img.set_axis_off()\n",
    "    ax_img.set_adjustable('box-forced')\n",
    "\n",
    "    # Display histogram\n",
    "    ax_hist.hist(image.ravel(), bins=bins, histtype='step', color='black')\n",
    "    ax_hist.ticklabel_format(axis='y', style='scientific', scilimits=(0, 0))\n",
    "    ax_hist.set_xlabel('Pixel intensity')\n",
    "    ax_hist.set_xlim(0, 1)\n",
    "    ax_hist.set_yticks([])\n",
    "\n",
    "    # Display cumulative distribution\n",
    "    img_cdf, bins = skimage.exposure.cumulative_distribution(image, bins)\n",
    "    ax_cdf.plot(bins, img_cdf, 'r')\n",
    "    ax_cdf.set_yticks([])\n",
    "\n",
    "    return ax_img, ax_hist, ax_cdf"
   ]
  },
  {
   "cell_type": "code",
   "execution_count": null,
   "metadata": {
    "collapsed": false
   },
   "outputs": [],
   "source": [
    "# Display results\n",
    "fig =  matplotlib.pyplot.figure(figsize=(8, 5))\n",
    "axes = numpy.zeros((2, 4), dtype=numpy.object)\n",
    "axes[0, 0] = fig.add_subplot(2, 4, 1)\n",
    "for i in range(1, 4):\n",
    "    axes[0, i] = fig.add_subplot(2, 4, 1+i, sharex=axes[0,0], sharey=axes[0,0])\n",
    "for i in range(0, 4):\n",
    "    axes[1, i] = fig.add_subplot(2, 4, 5+i)\n",
    "\n",
    "ax_img, ax_hist, ax_cdf = plot_img_and_hist(img, axes[:, 0])\n",
    "ax_img.set_title('Low contrast image')\n",
    "\n",
    "y_min, y_max = ax_hist.get_ylim()\n",
    "ax_hist.set_ylabel('Number of pixels')\n",
    "ax_hist.set_yticks(numpy.linspace(0, y_max, 5))\n",
    "\n",
    "ax_img, ax_hist, ax_cdf = plot_img_and_hist(img_rescale, axes[:, 1])\n",
    "ax_img.set_title('Contrast stretching')\n",
    "\n",
    "ax_img, ax_hist, ax_cdf = plot_img_and_hist(img_eq, axes[:, 2])\n",
    "ax_img.set_title('Histogram equalization')\n",
    "\n",
    "ax_img, ax_hist, ax_cdf = plot_img_and_hist(img_adapteq, axes[:, 3])\n",
    "ax_img.set_title('Adaptive equalization')\n",
    "\n",
    "ax_cdf.set_ylabel('Fraction of total intensity')\n",
    "ax_cdf.set_yticks(numpy.linspace(0, 1, 5))\n",
    "\n",
    "# prevent overlap of y-axis labels\n",
    "fig.tight_layout()\n",
    "matplotlib.pyplot.show()\n"
   ]
  },
  {
   "cell_type": "code",
   "execution_count": null,
   "metadata": {
    "collapsed": false
   },
   "outputs": [],
   "source": []
  },
  {
   "cell_type": "code",
   "execution_count": 5,
   "metadata": {
    "collapsed": false
   },
   "outputs": [
    {
     "name": "stdout",
     "output_type": "stream",
     "text": [
      "../data/cetres.b/refdataB_C2_327.png\n"
     ]
    },
    {
     "name": "stderr",
     "output_type": "stream",
     "text": [
      "/usr/local/lib/python3.6/site-packages/skimage/util/dtype.py:122: UserWarning: Possible precision loss when converting from float64 to uint16\n",
      "  .format(dtypeobj_in, dtypeobj_out))\n",
      "/usr/local/lib/python3.6/site-packages/skimage/util/dtype.py:122: UserWarning: Possible precision loss when converting from float64 to uint8\n",
      "  .format(dtypeobj_in, dtypeobj_out))\n"
     ]
    },
    {
     "name": "stdout",
     "output_type": "stream",
     "text": [
      "../data/cetres.b/refdataB_C2_328.png\n",
      "../data/cetres.b/refdataB_C2_329.png\n",
      "../data/cetres.b/refdataB_C2_330.png\n",
      "../data/cetres.b/refdataB_C2_331.png\n",
      "../data/cetres.b/refdataB_C2_332.png\n",
      "../data/cetres.b/refdataB_C2_333.png\n",
      "../data/cetres.b/refdataB_C2_334.png\n",
      "../data/cetres.b/refdataB_C2_335.png\n",
      "../data/cetres.b/refdataB_C2_336.png\n",
      "../data/cetres.b/refdataB_C2_337.png\n",
      "../data/cetres.b/refdataB_C2_338.png\n",
      "../data/cetres.b/refdataB_C2_339.png\n",
      "../data/cetres.b/refdataB_C2_340.png\n",
      "../data/cetres.b/refdataB_C2_341.png\n",
      "../data/cetres.b/refdataB_C2_342.png\n",
      "../data/cetres.b/refdataB_C2_343.png\n",
      "../data/cetres.b/refdataB_C2_344.png\n",
      "../data/cetres.b/refdataB_C2_345.png\n",
      "../data/cetres.b/refdataB_C2_346.png\n",
      "../data/cetres.b/refdataB_C2_347.png\n",
      "../data/cetres.b/refdataB_C2_348.png\n",
      "../data/cetres.b/refdataB_C2_349.png\n",
      "../data/cetres.b/refdataB_C2_350.png\n",
      "../data/cetres.b/refdataB_C2_351.png\n",
      "../data/cetres.b/refdataB_C2_352.png\n",
      "../data/cetres.b/refdataB_C2_353.png\n",
      "../data/cetres.b/refdataB_C2_354.png\n",
      "../data/cetres.b/refdataB_C2_355.png\n",
      "../data/cetres.b/refdataB_C2_356.png\n",
      "../data/cetres.b/refdataB_C2_357.png\n",
      "../data/cetres.b/refdataB_C2_358.png\n",
      "../data/cetres.b/refdataB_C2_359.png\n",
      "../data/cetres.b/refdataB_C2_360.png\n",
      "../data/cetres.b/refdataB_C2_361.png\n",
      "../data/cetres.b/refdataB_C2_362.png\n",
      "../data/cetres.b/refdataB_C2_363.png\n",
      "../data/cetres.b/refdataB_C2_364.png\n",
      "../data/cetres.b/refdataB_C2_365.png\n",
      "../data/cetres.b/refdataB_C2_366.png\n",
      "../data/cetres.b/refdataB_C2_367.png\n",
      "../data/cetres.b/refdataB_C2_368.png\n",
      "../data/cetres.b/refdataB_C2_369.png\n",
      "../data/cetres.b/refdataB_C2_370.png\n",
      "../data/cetres.b/refdataB_C2_371.png\n",
      "../data/cetres.b/refdataB_C2_372.png\n",
      "../data/cetres.b/refdataB_C2_373.png\n",
      "../data/cetres.b/refdataB_C2_374.png\n",
      "../data/cetres.b/refdataB_C2_375.png\n",
      "../data/cetres.b/refdataB_C2_376.png\n",
      "../data/cetres.b/refdataB_C2_377.png\n",
      "../data/cetres.b/refdataB_C2_378.png\n",
      "../data/cetres.b/refdataB_C2_379.png\n",
      "../data/cetres.b/refdataB_C2_380.png\n",
      "../data/cetres.b/refdataB_C2_381.png\n",
      "../data/cetres.b/refdataB_C2_382.png\n",
      "../data/cetres.b/refdataB_C2_383.png\n",
      "../data/cetres.b/refdataB_C2_384.png\n",
      "../data/cetres.b/refdataB_C2_385.png\n",
      "../data/cetres.b/refdataB_C2_386.png\n",
      "../data/cetres.b/refdataB_C2_387.png\n",
      "../data/cetres.b/refdataB_C2_388.png\n",
      "../data/cetres.b/refdataB_C2_389.png\n",
      "../data/cetres.b/refdataB_C2_390.png\n",
      "../data/cetres.b/refdataB_C2_391.png\n",
      "../data/cetres.b/refdataB_C2_392.png\n",
      "../data/cetres.b/refdataB_C2_393.png\n",
      "../data/cetres.b/refdataB_C2_394.png\n",
      "../data/cetres.b/refdataB_C2_395.png\n",
      "../data/cetres.b/refdataB_C2_396.png\n",
      "../data/cetres.b/refdataB_C2_397.png\n",
      "../data/cetres.b/refdataB_C2_398.png\n",
      "../data/cetres.b/refdataB_C2_399.png\n"
     ]
    }
   ],
   "source": [
    "#fig = matplotlib.pyplot.figure(figsize=(10, 10))\n",
    "#axes = numpy.zeros((1, 3), dtype=numpy.object)\n",
    "\n",
    "for fname in image_file_list[326:399]:\n",
    "    image_name = image_dir + fname\n",
    "    print(image_name)\n",
    "    img = skimage.io.imread(image_name)\n",
    "    img = skimage.color.rgb2gray(img)\n",
    "    \n",
    "    # Adaptive Equalization\n",
    "    img_adapteq = skimage.exposure.equalize_adapthist(img, clip_limit=0.02)\n",
    "    \n",
    "    # Denoise \n",
    "    img_denoised = skimage.restoration.denoise_tv_chambolle(img_adapteq, weight=0.01,multichannel=False)\n",
    "    \n",
    "    img_rgb = skimage.color.gray2rgb(img_denoised)\n",
    "    skimage.io.imsave(output_dir + fname, img_rgb)\n",
    "    \n",
    "    #axes[0, 0] = fig.add_subplot(1, 3, 1)\n",
    "    #matplotlib.pyplot.imshow(img,cmap='gray')\n",
    "    #axes[0, 1] = fig.add_subplot(1, 3, 2)\n",
    "    #matplotlib.pyplot.imshow(img_adapteq,cmap='gray')\n",
    "    #axes[0, 2] = fig.add_subplot(1, 3, 3)\n",
    "    #matplotlib.pyplot.imshow(img_denoised,cmap='gray')\n",
    "    \n",
    "    #fig.canvas.draw() \n",
    "    "
   ]
  },
  {
   "cell_type": "markdown",
   "metadata": {
    "deletable": true,
    "editable": true
   },
   "source": [
    "\n"
   ]
  }
 ],
 "metadata": {
  "kernelspec": {
   "display_name": "Python 3",
   "language": "python",
   "name": "python3"
  },
  "language_info": {
   "codemirror_mode": {
    "name": "ipython",
    "version": 3
   },
   "file_extension": ".py",
   "mimetype": "text/x-python",
   "name": "python",
   "nbconvert_exporter": "python",
   "pygments_lexer": "ipython3",
   "version": "3.6.2"
  }
 },
 "nbformat": 4,
 "nbformat_minor": 2
}
