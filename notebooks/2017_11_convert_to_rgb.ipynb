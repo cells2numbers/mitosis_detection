{
 "cells": [
  {
   "cell_type": "markdown",
   "metadata": {
    "deletable": true,
    "editable": true
   },
   "source": [
    "Convert png images to rgb"
   ]
  },
  {
   "cell_type": "code",
   "execution_count": 1,
   "metadata": {
    "collapsed": true,
    "deletable": true,
    "editable": true
   },
   "outputs": [],
   "source": [
    "%matplotlib notebook \n",
    "\n",
    "import csv\n",
    "import json\n",
    "import numpy \n",
    "import os\n",
    "import sys\n",
    "import time\n",
    "\n",
    "import skimage.color\n",
    "import skimage.io\n",
    "import skimage.measure\n",
    "import skimage.transform\n",
    "\n",
    "import matplotlib.patches\n",
    "import matplotlib.path\n",
    "import matplotlib.pyplot\n",
    "import matplotlib.transforms"
   ]
  },
  {
   "cell_type": "markdown",
   "metadata": {
    "deletable": true,
    "editable": true
   },
   "source": [
    "Functions to access the reference data (images as well as labels). Regions properties are generated using skimage.measure()"
   ]
  },
  {
   "cell_type": "code",
   "execution_count": 23,
   "metadata": {
    "collapsed": false,
    "deletable": true,
    "editable": true
   },
   "outputs": [
    {
     "name": "stdout",
     "output_type": "stream",
     "text": [
      "../data/cetres.b/refdataB_C2_001.png\n"
     ]
    },
    {
     "name": "stderr",
     "output_type": "stream",
     "text": [
      "/usr/local/lib/python3.6/site-packages/skimage/io/_io.py:132: UserWarning: ../data/cetres.b/refdataB_C2_001.png is a low contrast image\n",
      "  warn('%s is a low contrast image' % fname)\n"
     ]
    },
    {
     "name": "stdout",
     "output_type": "stream",
     "text": [
      "../data/cetres.b/refdataB_C2_002.png\n"
     ]
    },
    {
     "name": "stderr",
     "output_type": "stream",
     "text": [
      "/usr/local/lib/python3.6/site-packages/skimage/io/_io.py:132: UserWarning: ../data/cetres.b/refdataB_C2_002.png is a low contrast image\n",
      "  warn('%s is a low contrast image' % fname)\n"
     ]
    },
    {
     "name": "stdout",
     "output_type": "stream",
     "text": [
      "../data/cetres.b/refdataB_C2_003.png\n"
     ]
    },
    {
     "name": "stderr",
     "output_type": "stream",
     "text": [
      "/usr/local/lib/python3.6/site-packages/skimage/io/_io.py:132: UserWarning: ../data/cetres.b/refdataB_C2_003.png is a low contrast image\n",
      "  warn('%s is a low contrast image' % fname)\n"
     ]
    },
    {
     "name": "stdout",
     "output_type": "stream",
     "text": [
      "../data/cetres.b/refdataB_C2_004.png\n"
     ]
    },
    {
     "name": "stderr",
     "output_type": "stream",
     "text": [
      "/usr/local/lib/python3.6/site-packages/skimage/io/_io.py:132: UserWarning: ../data/cetres.b/refdataB_C2_004.png is a low contrast image\n",
      "  warn('%s is a low contrast image' % fname)\n"
     ]
    },
    {
     "name": "stdout",
     "output_type": "stream",
     "text": [
      "../data/cetres.b/refdataB_C2_005.png\n"
     ]
    },
    {
     "name": "stderr",
     "output_type": "stream",
     "text": [
      "/usr/local/lib/python3.6/site-packages/skimage/io/_io.py:132: UserWarning: ../data/cetres.b/refdataB_C2_005.png is a low contrast image\n",
      "  warn('%s is a low contrast image' % fname)\n"
     ]
    },
    {
     "name": "stdout",
     "output_type": "stream",
     "text": [
      "../data/cetres.b/refdataB_C2_006.png\n"
     ]
    },
    {
     "name": "stderr",
     "output_type": "stream",
     "text": [
      "/usr/local/lib/python3.6/site-packages/skimage/io/_io.py:132: UserWarning: ../data/cetres.b/refdataB_C2_006.png is a low contrast image\n",
      "  warn('%s is a low contrast image' % fname)\n"
     ]
    },
    {
     "name": "stdout",
     "output_type": "stream",
     "text": [
      "../data/cetres.b/refdataB_C2_007.png\n"
     ]
    },
    {
     "name": "stderr",
     "output_type": "stream",
     "text": [
      "/usr/local/lib/python3.6/site-packages/skimage/io/_io.py:132: UserWarning: ../data/cetres.b/refdataB_C2_007.png is a low contrast image\n",
      "  warn('%s is a low contrast image' % fname)\n"
     ]
    },
    {
     "name": "stdout",
     "output_type": "stream",
     "text": [
      "../data/cetres.b/refdataB_C2_008.png\n"
     ]
    },
    {
     "name": "stderr",
     "output_type": "stream",
     "text": [
      "/usr/local/lib/python3.6/site-packages/skimage/io/_io.py:132: UserWarning: ../data/cetres.b/refdataB_C2_008.png is a low contrast image\n",
      "  warn('%s is a low contrast image' % fname)\n"
     ]
    },
    {
     "name": "stdout",
     "output_type": "stream",
     "text": [
      "../data/cetres.b/refdataB_C2_009.png\n"
     ]
    },
    {
     "name": "stderr",
     "output_type": "stream",
     "text": [
      "/usr/local/lib/python3.6/site-packages/skimage/io/_io.py:132: UserWarning: ../data/cetres.b/refdataB_C2_009.png is a low contrast image\n",
      "  warn('%s is a low contrast image' % fname)\n"
     ]
    },
    {
     "name": "stdout",
     "output_type": "stream",
     "text": [
      "../data/cetres.b/refdataB_C2_010.png\n"
     ]
    },
    {
     "name": "stderr",
     "output_type": "stream",
     "text": [
      "/usr/local/lib/python3.6/site-packages/skimage/io/_io.py:132: UserWarning: ../data/cetres.b/refdataB_C2_010.png is a low contrast image\n",
      "  warn('%s is a low contrast image' % fname)\n"
     ]
    },
    {
     "name": "stdout",
     "output_type": "stream",
     "text": [
      "../data/cetres.b/refdataB_C2_011.png\n"
     ]
    },
    {
     "name": "stderr",
     "output_type": "stream",
     "text": [
      "/usr/local/lib/python3.6/site-packages/skimage/io/_io.py:132: UserWarning: ../data/cetres.b/refdataB_C2_011.png is a low contrast image\n",
      "  warn('%s is a low contrast image' % fname)\n"
     ]
    },
    {
     "name": "stdout",
     "output_type": "stream",
     "text": [
      "../data/cetres.b/refdataB_C2_012.png\n"
     ]
    },
    {
     "name": "stderr",
     "output_type": "stream",
     "text": [
      "/usr/local/lib/python3.6/site-packages/skimage/io/_io.py:132: UserWarning: ../data/cetres.b/refdataB_C2_012.png is a low contrast image\n",
      "  warn('%s is a low contrast image' % fname)\n"
     ]
    },
    {
     "name": "stdout",
     "output_type": "stream",
     "text": [
      "../data/cetres.b/refdataB_C2_013.png\n"
     ]
    },
    {
     "name": "stderr",
     "output_type": "stream",
     "text": [
      "/usr/local/lib/python3.6/site-packages/skimage/io/_io.py:132: UserWarning: ../data/cetres.b/refdataB_C2_013.png is a low contrast image\n",
      "  warn('%s is a low contrast image' % fname)\n"
     ]
    },
    {
     "name": "stdout",
     "output_type": "stream",
     "text": [
      "../data/cetres.b/refdataB_C2_014.png\n"
     ]
    },
    {
     "name": "stderr",
     "output_type": "stream",
     "text": [
      "/usr/local/lib/python3.6/site-packages/skimage/io/_io.py:132: UserWarning: ../data/cetres.b/refdataB_C2_014.png is a low contrast image\n",
      "  warn('%s is a low contrast image' % fname)\n"
     ]
    },
    {
     "name": "stdout",
     "output_type": "stream",
     "text": [
      "../data/cetres.b/refdataB_C2_015.png\n"
     ]
    },
    {
     "name": "stderr",
     "output_type": "stream",
     "text": [
      "/usr/local/lib/python3.6/site-packages/skimage/io/_io.py:132: UserWarning: ../data/cetres.b/refdataB_C2_015.png is a low contrast image\n",
      "  warn('%s is a low contrast image' % fname)\n"
     ]
    },
    {
     "name": "stdout",
     "output_type": "stream",
     "text": [
      "../data/cetres.b/refdataB_C2_016.png\n"
     ]
    },
    {
     "name": "stderr",
     "output_type": "stream",
     "text": [
      "/usr/local/lib/python3.6/site-packages/skimage/io/_io.py:132: UserWarning: ../data/cetres.b/refdataB_C2_016.png is a low contrast image\n",
      "  warn('%s is a low contrast image' % fname)\n"
     ]
    },
    {
     "name": "stdout",
     "output_type": "stream",
     "text": [
      "../data/cetres.b/refdataB_C2_017.png\n"
     ]
    },
    {
     "name": "stderr",
     "output_type": "stream",
     "text": [
      "/usr/local/lib/python3.6/site-packages/skimage/io/_io.py:132: UserWarning: ../data/cetres.b/refdataB_C2_017.png is a low contrast image\n",
      "  warn('%s is a low contrast image' % fname)\n"
     ]
    },
    {
     "name": "stdout",
     "output_type": "stream",
     "text": [
      "../data/cetres.b/refdataB_C2_018.png\n"
     ]
    },
    {
     "name": "stderr",
     "output_type": "stream",
     "text": [
      "/usr/local/lib/python3.6/site-packages/skimage/io/_io.py:132: UserWarning: ../data/cetres.b/refdataB_C2_018.png is a low contrast image\n",
      "  warn('%s is a low contrast image' % fname)\n"
     ]
    },
    {
     "name": "stdout",
     "output_type": "stream",
     "text": [
      "../data/cetres.b/refdataB_C2_019.png\n"
     ]
    },
    {
     "name": "stderr",
     "output_type": "stream",
     "text": [
      "/usr/local/lib/python3.6/site-packages/skimage/io/_io.py:132: UserWarning: ../data/cetres.b/refdataB_C2_019.png is a low contrast image\n",
      "  warn('%s is a low contrast image' % fname)\n"
     ]
    },
    {
     "name": "stdout",
     "output_type": "stream",
     "text": [
      "../data/cetres.b/refdataB_C2_020.png\n"
     ]
    },
    {
     "name": "stderr",
     "output_type": "stream",
     "text": [
      "/usr/local/lib/python3.6/site-packages/skimage/io/_io.py:132: UserWarning: ../data/cetres.b/refdataB_C2_020.png is a low contrast image\n",
      "  warn('%s is a low contrast image' % fname)\n"
     ]
    },
    {
     "name": "stdout",
     "output_type": "stream",
     "text": [
      "../data/cetres.b/refdataB_C2_021.png\n"
     ]
    },
    {
     "name": "stderr",
     "output_type": "stream",
     "text": [
      "/usr/local/lib/python3.6/site-packages/skimage/io/_io.py:132: UserWarning: ../data/cetres.b/refdataB_C2_021.png is a low contrast image\n",
      "  warn('%s is a low contrast image' % fname)\n"
     ]
    },
    {
     "name": "stdout",
     "output_type": "stream",
     "text": [
      "../data/cetres.b/refdataB_C2_022.png\n"
     ]
    },
    {
     "name": "stderr",
     "output_type": "stream",
     "text": [
      "/usr/local/lib/python3.6/site-packages/skimage/io/_io.py:132: UserWarning: ../data/cetres.b/refdataB_C2_022.png is a low contrast image\n",
      "  warn('%s is a low contrast image' % fname)\n"
     ]
    },
    {
     "name": "stdout",
     "output_type": "stream",
     "text": [
      "../data/cetres.b/refdataB_C2_023.png\n"
     ]
    },
    {
     "name": "stderr",
     "output_type": "stream",
     "text": [
      "/usr/local/lib/python3.6/site-packages/skimage/io/_io.py:132: UserWarning: ../data/cetres.b/refdataB_C2_023.png is a low contrast image\n",
      "  warn('%s is a low contrast image' % fname)\n"
     ]
    },
    {
     "name": "stdout",
     "output_type": "stream",
     "text": [
      "../data/cetres.b/refdataB_C2_024.png\n"
     ]
    },
    {
     "name": "stderr",
     "output_type": "stream",
     "text": [
      "/usr/local/lib/python3.6/site-packages/skimage/io/_io.py:132: UserWarning: ../data/cetres.b/refdataB_C2_024.png is a low contrast image\n",
      "  warn('%s is a low contrast image' % fname)\n"
     ]
    },
    {
     "name": "stdout",
     "output_type": "stream",
     "text": [
      "../data/cetres.b/refdataB_C2_025.png\n"
     ]
    },
    {
     "name": "stderr",
     "output_type": "stream",
     "text": [
      "/usr/local/lib/python3.6/site-packages/skimage/io/_io.py:132: UserWarning: ../data/cetres.b/refdataB_C2_025.png is a low contrast image\n",
      "  warn('%s is a low contrast image' % fname)\n"
     ]
    },
    {
     "name": "stdout",
     "output_type": "stream",
     "text": [
      "../data/cetres.b/refdataB_C2_026.png\n"
     ]
    },
    {
     "name": "stderr",
     "output_type": "stream",
     "text": [
      "/usr/local/lib/python3.6/site-packages/skimage/io/_io.py:132: UserWarning: ../data/cetres.b/refdataB_C2_026.png is a low contrast image\n",
      "  warn('%s is a low contrast image' % fname)\n"
     ]
    },
    {
     "name": "stdout",
     "output_type": "stream",
     "text": [
      "../data/cetres.b/refdataB_C2_027.png\n"
     ]
    },
    {
     "name": "stderr",
     "output_type": "stream",
     "text": [
      "/usr/local/lib/python3.6/site-packages/skimage/io/_io.py:132: UserWarning: ../data/cetres.b/refdataB_C2_027.png is a low contrast image\n",
      "  warn('%s is a low contrast image' % fname)\n"
     ]
    },
    {
     "name": "stdout",
     "output_type": "stream",
     "text": [
      "../data/cetres.b/refdataB_C2_028.png\n"
     ]
    },
    {
     "name": "stderr",
     "output_type": "stream",
     "text": [
      "/usr/local/lib/python3.6/site-packages/skimage/io/_io.py:132: UserWarning: ../data/cetres.b/refdataB_C2_028.png is a low contrast image\n",
      "  warn('%s is a low contrast image' % fname)\n"
     ]
    },
    {
     "name": "stdout",
     "output_type": "stream",
     "text": [
      "../data/cetres.b/refdataB_C2_029.png\n"
     ]
    },
    {
     "name": "stderr",
     "output_type": "stream",
     "text": [
      "/usr/local/lib/python3.6/site-packages/skimage/io/_io.py:132: UserWarning: ../data/cetres.b/refdataB_C2_029.png is a low contrast image\n",
      "  warn('%s is a low contrast image' % fname)\n"
     ]
    },
    {
     "name": "stdout",
     "output_type": "stream",
     "text": [
      "../data/cetres.b/refdataB_C2_030.png\n"
     ]
    },
    {
     "name": "stderr",
     "output_type": "stream",
     "text": [
      "/usr/local/lib/python3.6/site-packages/skimage/io/_io.py:132: UserWarning: ../data/cetres.b/refdataB_C2_030.png is a low contrast image\n",
      "  warn('%s is a low contrast image' % fname)\n"
     ]
    },
    {
     "name": "stdout",
     "output_type": "stream",
     "text": [
      "../data/cetres.b/refdataB_C2_031.png\n"
     ]
    },
    {
     "name": "stderr",
     "output_type": "stream",
     "text": [
      "/usr/local/lib/python3.6/site-packages/skimage/io/_io.py:132: UserWarning: ../data/cetres.b/refdataB_C2_031.png is a low contrast image\n",
      "  warn('%s is a low contrast image' % fname)\n"
     ]
    },
    {
     "name": "stdout",
     "output_type": "stream",
     "text": [
      "../data/cetres.b/refdataB_C2_032.png\n"
     ]
    },
    {
     "name": "stderr",
     "output_type": "stream",
     "text": [
      "/usr/local/lib/python3.6/site-packages/skimage/io/_io.py:132: UserWarning: ../data/cetres.b/refdataB_C2_032.png is a low contrast image\n",
      "  warn('%s is a low contrast image' % fname)\n"
     ]
    },
    {
     "name": "stdout",
     "output_type": "stream",
     "text": [
      "../data/cetres.b/refdataB_C2_033.png\n"
     ]
    },
    {
     "name": "stderr",
     "output_type": "stream",
     "text": [
      "/usr/local/lib/python3.6/site-packages/skimage/io/_io.py:132: UserWarning: ../data/cetres.b/refdataB_C2_033.png is a low contrast image\n",
      "  warn('%s is a low contrast image' % fname)\n"
     ]
    },
    {
     "name": "stdout",
     "output_type": "stream",
     "text": [
      "../data/cetres.b/refdataB_C2_034.png\n"
     ]
    },
    {
     "name": "stderr",
     "output_type": "stream",
     "text": [
      "/usr/local/lib/python3.6/site-packages/skimage/io/_io.py:132: UserWarning: ../data/cetres.b/refdataB_C2_034.png is a low contrast image\n",
      "  warn('%s is a low contrast image' % fname)\n"
     ]
    },
    {
     "name": "stdout",
     "output_type": "stream",
     "text": [
      "../data/cetres.b/refdataB_C2_035.png\n"
     ]
    },
    {
     "name": "stderr",
     "output_type": "stream",
     "text": [
      "/usr/local/lib/python3.6/site-packages/skimage/io/_io.py:132: UserWarning: ../data/cetres.b/refdataB_C2_035.png is a low contrast image\n",
      "  warn('%s is a low contrast image' % fname)\n"
     ]
    },
    {
     "name": "stdout",
     "output_type": "stream",
     "text": [
      "../data/cetres.b/refdataB_C2_036.png\n"
     ]
    },
    {
     "name": "stderr",
     "output_type": "stream",
     "text": [
      "/usr/local/lib/python3.6/site-packages/skimage/io/_io.py:132: UserWarning: ../data/cetres.b/refdataB_C2_036.png is a low contrast image\n",
      "  warn('%s is a low contrast image' % fname)\n"
     ]
    },
    {
     "name": "stdout",
     "output_type": "stream",
     "text": [
      "../data/cetres.b/refdataB_C2_037.png\n"
     ]
    },
    {
     "name": "stderr",
     "output_type": "stream",
     "text": [
      "/usr/local/lib/python3.6/site-packages/skimage/io/_io.py:132: UserWarning: ../data/cetres.b/refdataB_C2_037.png is a low contrast image\n",
      "  warn('%s is a low contrast image' % fname)\n"
     ]
    },
    {
     "name": "stdout",
     "output_type": "stream",
     "text": [
      "../data/cetres.b/refdataB_C2_038.png\n"
     ]
    },
    {
     "name": "stderr",
     "output_type": "stream",
     "text": [
      "/usr/local/lib/python3.6/site-packages/skimage/io/_io.py:132: UserWarning: ../data/cetres.b/refdataB_C2_038.png is a low contrast image\n",
      "  warn('%s is a low contrast image' % fname)\n"
     ]
    },
    {
     "name": "stdout",
     "output_type": "stream",
     "text": [
      "../data/cetres.b/refdataB_C2_039.png\n"
     ]
    },
    {
     "name": "stderr",
     "output_type": "stream",
     "text": [
      "/usr/local/lib/python3.6/site-packages/skimage/io/_io.py:132: UserWarning: ../data/cetres.b/refdataB_C2_039.png is a low contrast image\n",
      "  warn('%s is a low contrast image' % fname)\n"
     ]
    },
    {
     "name": "stdout",
     "output_type": "stream",
     "text": [
      "../data/cetres.b/refdataB_C2_040.png\n"
     ]
    },
    {
     "name": "stderr",
     "output_type": "stream",
     "text": [
      "/usr/local/lib/python3.6/site-packages/skimage/io/_io.py:132: UserWarning: ../data/cetres.b/refdataB_C2_040.png is a low contrast image\n",
      "  warn('%s is a low contrast image' % fname)\n"
     ]
    },
    {
     "name": "stdout",
     "output_type": "stream",
     "text": [
      "../data/cetres.b/refdataB_C2_041.png\n"
     ]
    },
    {
     "name": "stderr",
     "output_type": "stream",
     "text": [
      "/usr/local/lib/python3.6/site-packages/skimage/io/_io.py:132: UserWarning: ../data/cetres.b/refdataB_C2_041.png is a low contrast image\n",
      "  warn('%s is a low contrast image' % fname)\n"
     ]
    },
    {
     "name": "stdout",
     "output_type": "stream",
     "text": [
      "../data/cetres.b/refdataB_C2_042.png\n"
     ]
    },
    {
     "name": "stderr",
     "output_type": "stream",
     "text": [
      "/usr/local/lib/python3.6/site-packages/skimage/io/_io.py:132: UserWarning: ../data/cetres.b/refdataB_C2_042.png is a low contrast image\n",
      "  warn('%s is a low contrast image' % fname)\n"
     ]
    },
    {
     "name": "stdout",
     "output_type": "stream",
     "text": [
      "../data/cetres.b/refdataB_C2_043.png\n"
     ]
    },
    {
     "name": "stderr",
     "output_type": "stream",
     "text": [
      "/usr/local/lib/python3.6/site-packages/skimage/io/_io.py:132: UserWarning: ../data/cetres.b/refdataB_C2_043.png is a low contrast image\n",
      "  warn('%s is a low contrast image' % fname)\n"
     ]
    },
    {
     "name": "stdout",
     "output_type": "stream",
     "text": [
      "../data/cetres.b/refdataB_C2_044.png\n"
     ]
    },
    {
     "name": "stderr",
     "output_type": "stream",
     "text": [
      "/usr/local/lib/python3.6/site-packages/skimage/io/_io.py:132: UserWarning: ../data/cetres.b/refdataB_C2_044.png is a low contrast image\n",
      "  warn('%s is a low contrast image' % fname)\n"
     ]
    },
    {
     "name": "stdout",
     "output_type": "stream",
     "text": [
      "../data/cetres.b/refdataB_C2_045.png\n"
     ]
    },
    {
     "name": "stderr",
     "output_type": "stream",
     "text": [
      "/usr/local/lib/python3.6/site-packages/skimage/io/_io.py:132: UserWarning: ../data/cetres.b/refdataB_C2_045.png is a low contrast image\n",
      "  warn('%s is a low contrast image' % fname)\n"
     ]
    },
    {
     "name": "stdout",
     "output_type": "stream",
     "text": [
      "../data/cetres.b/refdataB_C2_046.png\n"
     ]
    },
    {
     "name": "stderr",
     "output_type": "stream",
     "text": [
      "/usr/local/lib/python3.6/site-packages/skimage/io/_io.py:132: UserWarning: ../data/cetres.b/refdataB_C2_046.png is a low contrast image\n",
      "  warn('%s is a low contrast image' % fname)\n"
     ]
    },
    {
     "name": "stdout",
     "output_type": "stream",
     "text": [
      "../data/cetres.b/refdataB_C2_047.png\n"
     ]
    },
    {
     "name": "stderr",
     "output_type": "stream",
     "text": [
      "/usr/local/lib/python3.6/site-packages/skimage/io/_io.py:132: UserWarning: ../data/cetres.b/refdataB_C2_047.png is a low contrast image\n",
      "  warn('%s is a low contrast image' % fname)\n"
     ]
    },
    {
     "name": "stdout",
     "output_type": "stream",
     "text": [
      "../data/cetres.b/refdataB_C2_048.png\n"
     ]
    },
    {
     "name": "stderr",
     "output_type": "stream",
     "text": [
      "/usr/local/lib/python3.6/site-packages/skimage/io/_io.py:132: UserWarning: ../data/cetres.b/refdataB_C2_048.png is a low contrast image\n",
      "  warn('%s is a low contrast image' % fname)\n"
     ]
    },
    {
     "name": "stdout",
     "output_type": "stream",
     "text": [
      "../data/cetres.b/refdataB_C2_049.png\n"
     ]
    },
    {
     "name": "stderr",
     "output_type": "stream",
     "text": [
      "/usr/local/lib/python3.6/site-packages/skimage/io/_io.py:132: UserWarning: ../data/cetres.b/refdataB_C2_049.png is a low contrast image\n",
      "  warn('%s is a low contrast image' % fname)\n"
     ]
    },
    {
     "name": "stdout",
     "output_type": "stream",
     "text": [
      "../data/cetres.b/refdataB_C2_050.png\n"
     ]
    },
    {
     "name": "stderr",
     "output_type": "stream",
     "text": [
      "/usr/local/lib/python3.6/site-packages/skimage/io/_io.py:132: UserWarning: ../data/cetres.b/refdataB_C2_050.png is a low contrast image\n",
      "  warn('%s is a low contrast image' % fname)\n"
     ]
    },
    {
     "name": "stdout",
     "output_type": "stream",
     "text": [
      "../data/cetres.b/refdataB_C2_051.png\n"
     ]
    },
    {
     "name": "stderr",
     "output_type": "stream",
     "text": [
      "/usr/local/lib/python3.6/site-packages/skimage/io/_io.py:132: UserWarning: ../data/cetres.b/refdataB_C2_051.png is a low contrast image\n",
      "  warn('%s is a low contrast image' % fname)\n"
     ]
    },
    {
     "name": "stdout",
     "output_type": "stream",
     "text": [
      "../data/cetres.b/refdataB_C2_052.png\n"
     ]
    },
    {
     "name": "stderr",
     "output_type": "stream",
     "text": [
      "/usr/local/lib/python3.6/site-packages/skimage/io/_io.py:132: UserWarning: ../data/cetres.b/refdataB_C2_052.png is a low contrast image\n",
      "  warn('%s is a low contrast image' % fname)\n"
     ]
    },
    {
     "name": "stdout",
     "output_type": "stream",
     "text": [
      "../data/cetres.b/refdataB_C2_053.png\n"
     ]
    },
    {
     "name": "stderr",
     "output_type": "stream",
     "text": [
      "/usr/local/lib/python3.6/site-packages/skimage/io/_io.py:132: UserWarning: ../data/cetres.b/refdataB_C2_053.png is a low contrast image\n",
      "  warn('%s is a low contrast image' % fname)\n"
     ]
    },
    {
     "name": "stdout",
     "output_type": "stream",
     "text": [
      "../data/cetres.b/refdataB_C2_054.png\n"
     ]
    },
    {
     "name": "stderr",
     "output_type": "stream",
     "text": [
      "/usr/local/lib/python3.6/site-packages/skimage/io/_io.py:132: UserWarning: ../data/cetres.b/refdataB_C2_054.png is a low contrast image\n",
      "  warn('%s is a low contrast image' % fname)\n"
     ]
    },
    {
     "name": "stdout",
     "output_type": "stream",
     "text": [
      "../data/cetres.b/refdataB_C2_055.png\n"
     ]
    },
    {
     "name": "stderr",
     "output_type": "stream",
     "text": [
      "/usr/local/lib/python3.6/site-packages/skimage/io/_io.py:132: UserWarning: ../data/cetres.b/refdataB_C2_055.png is a low contrast image\n",
      "  warn('%s is a low contrast image' % fname)\n"
     ]
    },
    {
     "name": "stdout",
     "output_type": "stream",
     "text": [
      "../data/cetres.b/refdataB_C2_056.png\n"
     ]
    },
    {
     "name": "stderr",
     "output_type": "stream",
     "text": [
      "/usr/local/lib/python3.6/site-packages/skimage/io/_io.py:132: UserWarning: ../data/cetres.b/refdataB_C2_056.png is a low contrast image\n",
      "  warn('%s is a low contrast image' % fname)\n"
     ]
    },
    {
     "name": "stdout",
     "output_type": "stream",
     "text": [
      "../data/cetres.b/refdataB_C2_057.png\n"
     ]
    },
    {
     "name": "stderr",
     "output_type": "stream",
     "text": [
      "/usr/local/lib/python3.6/site-packages/skimage/io/_io.py:132: UserWarning: ../data/cetres.b/refdataB_C2_057.png is a low contrast image\n",
      "  warn('%s is a low contrast image' % fname)\n"
     ]
    },
    {
     "name": "stdout",
     "output_type": "stream",
     "text": [
      "../data/cetres.b/refdataB_C2_058.png\n"
     ]
    },
    {
     "name": "stderr",
     "output_type": "stream",
     "text": [
      "/usr/local/lib/python3.6/site-packages/skimage/io/_io.py:132: UserWarning: ../data/cetres.b/refdataB_C2_058.png is a low contrast image\n",
      "  warn('%s is a low contrast image' % fname)\n"
     ]
    },
    {
     "name": "stdout",
     "output_type": "stream",
     "text": [
      "../data/cetres.b/refdataB_C2_059.png\n"
     ]
    },
    {
     "name": "stderr",
     "output_type": "stream",
     "text": [
      "/usr/local/lib/python3.6/site-packages/skimage/io/_io.py:132: UserWarning: ../data/cetres.b/refdataB_C2_059.png is a low contrast image\n",
      "  warn('%s is a low contrast image' % fname)\n"
     ]
    },
    {
     "name": "stdout",
     "output_type": "stream",
     "text": [
      "../data/cetres.b/refdataB_C2_060.png\n"
     ]
    },
    {
     "name": "stderr",
     "output_type": "stream",
     "text": [
      "/usr/local/lib/python3.6/site-packages/skimage/io/_io.py:132: UserWarning: ../data/cetres.b/refdataB_C2_060.png is a low contrast image\n",
      "  warn('%s is a low contrast image' % fname)\n"
     ]
    },
    {
     "name": "stdout",
     "output_type": "stream",
     "text": [
      "../data/cetres.b/refdataB_C2_061.png\n"
     ]
    },
    {
     "name": "stderr",
     "output_type": "stream",
     "text": [
      "/usr/local/lib/python3.6/site-packages/skimage/io/_io.py:132: UserWarning: ../data/cetres.b/refdataB_C2_061.png is a low contrast image\n",
      "  warn('%s is a low contrast image' % fname)\n"
     ]
    },
    {
     "name": "stdout",
     "output_type": "stream",
     "text": [
      "../data/cetres.b/refdataB_C2_062.png\n"
     ]
    },
    {
     "name": "stderr",
     "output_type": "stream",
     "text": [
      "/usr/local/lib/python3.6/site-packages/skimage/io/_io.py:132: UserWarning: ../data/cetres.b/refdataB_C2_062.png is a low contrast image\n",
      "  warn('%s is a low contrast image' % fname)\n"
     ]
    },
    {
     "name": "stdout",
     "output_type": "stream",
     "text": [
      "../data/cetres.b/refdataB_C2_063.png\n"
     ]
    },
    {
     "name": "stderr",
     "output_type": "stream",
     "text": [
      "/usr/local/lib/python3.6/site-packages/skimage/io/_io.py:132: UserWarning: ../data/cetres.b/refdataB_C2_063.png is a low contrast image\n",
      "  warn('%s is a low contrast image' % fname)\n"
     ]
    },
    {
     "name": "stdout",
     "output_type": "stream",
     "text": [
      "../data/cetres.b/refdataB_C2_064.png\n"
     ]
    },
    {
     "name": "stderr",
     "output_type": "stream",
     "text": [
      "/usr/local/lib/python3.6/site-packages/skimage/io/_io.py:132: UserWarning: ../data/cetres.b/refdataB_C2_064.png is a low contrast image\n",
      "  warn('%s is a low contrast image' % fname)\n"
     ]
    },
    {
     "name": "stdout",
     "output_type": "stream",
     "text": [
      "../data/cetres.b/refdataB_C2_065.png\n"
     ]
    },
    {
     "name": "stderr",
     "output_type": "stream",
     "text": [
      "/usr/local/lib/python3.6/site-packages/skimage/io/_io.py:132: UserWarning: ../data/cetres.b/refdataB_C2_065.png is a low contrast image\n",
      "  warn('%s is a low contrast image' % fname)\n"
     ]
    },
    {
     "name": "stdout",
     "output_type": "stream",
     "text": [
      "../data/cetres.b/refdataB_C2_066.png\n"
     ]
    },
    {
     "name": "stderr",
     "output_type": "stream",
     "text": [
      "/usr/local/lib/python3.6/site-packages/skimage/io/_io.py:132: UserWarning: ../data/cetres.b/refdataB_C2_066.png is a low contrast image\n",
      "  warn('%s is a low contrast image' % fname)\n"
     ]
    },
    {
     "name": "stdout",
     "output_type": "stream",
     "text": [
      "../data/cetres.b/refdataB_C2_067.png\n"
     ]
    },
    {
     "name": "stderr",
     "output_type": "stream",
     "text": [
      "/usr/local/lib/python3.6/site-packages/skimage/io/_io.py:132: UserWarning: ../data/cetres.b/refdataB_C2_067.png is a low contrast image\n",
      "  warn('%s is a low contrast image' % fname)\n"
     ]
    },
    {
     "name": "stdout",
     "output_type": "stream",
     "text": [
      "../data/cetres.b/refdataB_C2_068.png\n"
     ]
    },
    {
     "name": "stderr",
     "output_type": "stream",
     "text": [
      "/usr/local/lib/python3.6/site-packages/skimage/io/_io.py:132: UserWarning: ../data/cetres.b/refdataB_C2_068.png is a low contrast image\n",
      "  warn('%s is a low contrast image' % fname)\n"
     ]
    },
    {
     "name": "stdout",
     "output_type": "stream",
     "text": [
      "../data/cetres.b/refdataB_C2_069.png\n"
     ]
    },
    {
     "name": "stderr",
     "output_type": "stream",
     "text": [
      "/usr/local/lib/python3.6/site-packages/skimage/io/_io.py:132: UserWarning: ../data/cetres.b/refdataB_C2_069.png is a low contrast image\n",
      "  warn('%s is a low contrast image' % fname)\n"
     ]
    },
    {
     "name": "stdout",
     "output_type": "stream",
     "text": [
      "../data/cetres.b/refdataB_C2_070.png\n"
     ]
    },
    {
     "name": "stderr",
     "output_type": "stream",
     "text": [
      "/usr/local/lib/python3.6/site-packages/skimage/io/_io.py:132: UserWarning: ../data/cetres.b/refdataB_C2_070.png is a low contrast image\n",
      "  warn('%s is a low contrast image' % fname)\n"
     ]
    },
    {
     "name": "stdout",
     "output_type": "stream",
     "text": [
      "../data/cetres.b/refdataB_C2_071.png\n"
     ]
    },
    {
     "name": "stderr",
     "output_type": "stream",
     "text": [
      "/usr/local/lib/python3.6/site-packages/skimage/io/_io.py:132: UserWarning: ../data/cetres.b/refdataB_C2_071.png is a low contrast image\n",
      "  warn('%s is a low contrast image' % fname)\n"
     ]
    },
    {
     "name": "stdout",
     "output_type": "stream",
     "text": [
      "../data/cetres.b/refdataB_C2_072.png\n"
     ]
    },
    {
     "name": "stderr",
     "output_type": "stream",
     "text": [
      "/usr/local/lib/python3.6/site-packages/skimage/io/_io.py:132: UserWarning: ../data/cetres.b/refdataB_C2_072.png is a low contrast image\n",
      "  warn('%s is a low contrast image' % fname)\n"
     ]
    },
    {
     "name": "stdout",
     "output_type": "stream",
     "text": [
      "../data/cetres.b/refdataB_C2_073.png\n"
     ]
    },
    {
     "name": "stderr",
     "output_type": "stream",
     "text": [
      "/usr/local/lib/python3.6/site-packages/skimage/io/_io.py:132: UserWarning: ../data/cetres.b/refdataB_C2_073.png is a low contrast image\n",
      "  warn('%s is a low contrast image' % fname)\n"
     ]
    },
    {
     "name": "stdout",
     "output_type": "stream",
     "text": [
      "../data/cetres.b/refdataB_C2_074.png\n"
     ]
    },
    {
     "name": "stderr",
     "output_type": "stream",
     "text": [
      "/usr/local/lib/python3.6/site-packages/skimage/io/_io.py:132: UserWarning: ../data/cetres.b/refdataB_C2_074.png is a low contrast image\n",
      "  warn('%s is a low contrast image' % fname)\n"
     ]
    },
    {
     "name": "stdout",
     "output_type": "stream",
     "text": [
      "../data/cetres.b/refdataB_C2_075.png\n"
     ]
    },
    {
     "name": "stderr",
     "output_type": "stream",
     "text": [
      "/usr/local/lib/python3.6/site-packages/skimage/io/_io.py:132: UserWarning: ../data/cetres.b/refdataB_C2_075.png is a low contrast image\n",
      "  warn('%s is a low contrast image' % fname)\n"
     ]
    },
    {
     "name": "stdout",
     "output_type": "stream",
     "text": [
      "../data/cetres.b/refdataB_C2_076.png\n"
     ]
    },
    {
     "name": "stderr",
     "output_type": "stream",
     "text": [
      "/usr/local/lib/python3.6/site-packages/skimage/io/_io.py:132: UserWarning: ../data/cetres.b/refdataB_C2_076.png is a low contrast image\n",
      "  warn('%s is a low contrast image' % fname)\n"
     ]
    },
    {
     "name": "stdout",
     "output_type": "stream",
     "text": [
      "../data/cetres.b/refdataB_C2_077.png\n"
     ]
    },
    {
     "name": "stderr",
     "output_type": "stream",
     "text": [
      "/usr/local/lib/python3.6/site-packages/skimage/io/_io.py:132: UserWarning: ../data/cetres.b/refdataB_C2_077.png is a low contrast image\n",
      "  warn('%s is a low contrast image' % fname)\n"
     ]
    },
    {
     "name": "stdout",
     "output_type": "stream",
     "text": [
      "../data/cetres.b/refdataB_C2_078.png\n"
     ]
    },
    {
     "name": "stderr",
     "output_type": "stream",
     "text": [
      "/usr/local/lib/python3.6/site-packages/skimage/io/_io.py:132: UserWarning: ../data/cetres.b/refdataB_C2_078.png is a low contrast image\n",
      "  warn('%s is a low contrast image' % fname)\n"
     ]
    },
    {
     "name": "stdout",
     "output_type": "stream",
     "text": [
      "../data/cetres.b/refdataB_C2_079.png\n"
     ]
    },
    {
     "name": "stderr",
     "output_type": "stream",
     "text": [
      "/usr/local/lib/python3.6/site-packages/skimage/io/_io.py:132: UserWarning: ../data/cetres.b/refdataB_C2_079.png is a low contrast image\n",
      "  warn('%s is a low contrast image' % fname)\n"
     ]
    },
    {
     "name": "stdout",
     "output_type": "stream",
     "text": [
      "../data/cetres.b/refdataB_C2_080.png\n"
     ]
    },
    {
     "name": "stderr",
     "output_type": "stream",
     "text": [
      "/usr/local/lib/python3.6/site-packages/skimage/io/_io.py:132: UserWarning: ../data/cetres.b/refdataB_C2_080.png is a low contrast image\n",
      "  warn('%s is a low contrast image' % fname)\n"
     ]
    },
    {
     "name": "stdout",
     "output_type": "stream",
     "text": [
      "../data/cetres.b/refdataB_C2_081.png\n"
     ]
    },
    {
     "name": "stderr",
     "output_type": "stream",
     "text": [
      "/usr/local/lib/python3.6/site-packages/skimage/io/_io.py:132: UserWarning: ../data/cetres.b/refdataB_C2_081.png is a low contrast image\n",
      "  warn('%s is a low contrast image' % fname)\n"
     ]
    },
    {
     "name": "stdout",
     "output_type": "stream",
     "text": [
      "../data/cetres.b/refdataB_C2_082.png\n"
     ]
    },
    {
     "name": "stderr",
     "output_type": "stream",
     "text": [
      "/usr/local/lib/python3.6/site-packages/skimage/io/_io.py:132: UserWarning: ../data/cetres.b/refdataB_C2_082.png is a low contrast image\n",
      "  warn('%s is a low contrast image' % fname)\n"
     ]
    },
    {
     "name": "stdout",
     "output_type": "stream",
     "text": [
      "../data/cetres.b/refdataB_C2_083.png\n"
     ]
    },
    {
     "name": "stderr",
     "output_type": "stream",
     "text": [
      "/usr/local/lib/python3.6/site-packages/skimage/io/_io.py:132: UserWarning: ../data/cetres.b/refdataB_C2_083.png is a low contrast image\n",
      "  warn('%s is a low contrast image' % fname)\n"
     ]
    },
    {
     "name": "stdout",
     "output_type": "stream",
     "text": [
      "../data/cetres.b/refdataB_C2_084.png\n"
     ]
    },
    {
     "name": "stderr",
     "output_type": "stream",
     "text": [
      "/usr/local/lib/python3.6/site-packages/skimage/io/_io.py:132: UserWarning: ../data/cetres.b/refdataB_C2_084.png is a low contrast image\n",
      "  warn('%s is a low contrast image' % fname)\n"
     ]
    },
    {
     "name": "stdout",
     "output_type": "stream",
     "text": [
      "../data/cetres.b/refdataB_C2_085.png\n"
     ]
    },
    {
     "name": "stderr",
     "output_type": "stream",
     "text": [
      "/usr/local/lib/python3.6/site-packages/skimage/io/_io.py:132: UserWarning: ../data/cetres.b/refdataB_C2_085.png is a low contrast image\n",
      "  warn('%s is a low contrast image' % fname)\n"
     ]
    },
    {
     "name": "stdout",
     "output_type": "stream",
     "text": [
      "../data/cetres.b/refdataB_C2_086.png\n"
     ]
    },
    {
     "name": "stderr",
     "output_type": "stream",
     "text": [
      "/usr/local/lib/python3.6/site-packages/skimage/io/_io.py:132: UserWarning: ../data/cetres.b/refdataB_C2_086.png is a low contrast image\n",
      "  warn('%s is a low contrast image' % fname)\n"
     ]
    },
    {
     "name": "stdout",
     "output_type": "stream",
     "text": [
      "../data/cetres.b/refdataB_C2_087.png\n"
     ]
    },
    {
     "name": "stderr",
     "output_type": "stream",
     "text": [
      "/usr/local/lib/python3.6/site-packages/skimage/io/_io.py:132: UserWarning: ../data/cetres.b/refdataB_C2_087.png is a low contrast image\n",
      "  warn('%s is a low contrast image' % fname)\n"
     ]
    },
    {
     "name": "stdout",
     "output_type": "stream",
     "text": [
      "../data/cetres.b/refdataB_C2_088.png\n"
     ]
    },
    {
     "name": "stderr",
     "output_type": "stream",
     "text": [
      "/usr/local/lib/python3.6/site-packages/skimage/io/_io.py:132: UserWarning: ../data/cetres.b/refdataB_C2_088.png is a low contrast image\n",
      "  warn('%s is a low contrast image' % fname)\n"
     ]
    },
    {
     "name": "stdout",
     "output_type": "stream",
     "text": [
      "../data/cetres.b/refdataB_C2_089.png\n"
     ]
    },
    {
     "name": "stderr",
     "output_type": "stream",
     "text": [
      "/usr/local/lib/python3.6/site-packages/skimage/io/_io.py:132: UserWarning: ../data/cetres.b/refdataB_C2_089.png is a low contrast image\n",
      "  warn('%s is a low contrast image' % fname)\n"
     ]
    },
    {
     "name": "stdout",
     "output_type": "stream",
     "text": [
      "../data/cetres.b/refdataB_C2_090.png\n"
     ]
    },
    {
     "name": "stderr",
     "output_type": "stream",
     "text": [
      "/usr/local/lib/python3.6/site-packages/skimage/io/_io.py:132: UserWarning: ../data/cetres.b/refdataB_C2_090.png is a low contrast image\n",
      "  warn('%s is a low contrast image' % fname)\n"
     ]
    },
    {
     "name": "stdout",
     "output_type": "stream",
     "text": [
      "../data/cetres.b/refdataB_C2_091.png\n"
     ]
    },
    {
     "name": "stderr",
     "output_type": "stream",
     "text": [
      "/usr/local/lib/python3.6/site-packages/skimage/io/_io.py:132: UserWarning: ../data/cetres.b/refdataB_C2_091.png is a low contrast image\n",
      "  warn('%s is a low contrast image' % fname)\n"
     ]
    },
    {
     "name": "stdout",
     "output_type": "stream",
     "text": [
      "../data/cetres.b/refdataB_C2_092.png\n"
     ]
    },
    {
     "name": "stderr",
     "output_type": "stream",
     "text": [
      "/usr/local/lib/python3.6/site-packages/skimage/io/_io.py:132: UserWarning: ../data/cetres.b/refdataB_C2_092.png is a low contrast image\n",
      "  warn('%s is a low contrast image' % fname)\n"
     ]
    },
    {
     "name": "stdout",
     "output_type": "stream",
     "text": [
      "../data/cetres.b/refdataB_C2_093.png\n"
     ]
    },
    {
     "name": "stderr",
     "output_type": "stream",
     "text": [
      "/usr/local/lib/python3.6/site-packages/skimage/io/_io.py:132: UserWarning: ../data/cetres.b/refdataB_C2_093.png is a low contrast image\n",
      "  warn('%s is a low contrast image' % fname)\n"
     ]
    },
    {
     "name": "stdout",
     "output_type": "stream",
     "text": [
      "../data/cetres.b/refdataB_C2_094.png\n"
     ]
    },
    {
     "name": "stderr",
     "output_type": "stream",
     "text": [
      "/usr/local/lib/python3.6/site-packages/skimage/io/_io.py:132: UserWarning: ../data/cetres.b/refdataB_C2_094.png is a low contrast image\n",
      "  warn('%s is a low contrast image' % fname)\n"
     ]
    },
    {
     "name": "stdout",
     "output_type": "stream",
     "text": [
      "../data/cetres.b/refdataB_C2_095.png\n"
     ]
    },
    {
     "name": "stderr",
     "output_type": "stream",
     "text": [
      "/usr/local/lib/python3.6/site-packages/skimage/io/_io.py:132: UserWarning: ../data/cetres.b/refdataB_C2_095.png is a low contrast image\n",
      "  warn('%s is a low contrast image' % fname)\n"
     ]
    },
    {
     "name": "stdout",
     "output_type": "stream",
     "text": [
      "../data/cetres.b/refdataB_C2_096.png\n"
     ]
    },
    {
     "name": "stderr",
     "output_type": "stream",
     "text": [
      "/usr/local/lib/python3.6/site-packages/skimage/io/_io.py:132: UserWarning: ../data/cetres.b/refdataB_C2_096.png is a low contrast image\n",
      "  warn('%s is a low contrast image' % fname)\n"
     ]
    },
    {
     "name": "stdout",
     "output_type": "stream",
     "text": [
      "../data/cetres.b/refdataB_C2_097.png\n"
     ]
    },
    {
     "name": "stderr",
     "output_type": "stream",
     "text": [
      "/usr/local/lib/python3.6/site-packages/skimage/io/_io.py:132: UserWarning: ../data/cetres.b/refdataB_C2_097.png is a low contrast image\n",
      "  warn('%s is a low contrast image' % fname)\n"
     ]
    },
    {
     "name": "stdout",
     "output_type": "stream",
     "text": [
      "../data/cetres.b/refdataB_C2_098.png\n"
     ]
    },
    {
     "name": "stderr",
     "output_type": "stream",
     "text": [
      "/usr/local/lib/python3.6/site-packages/skimage/io/_io.py:132: UserWarning: ../data/cetres.b/refdataB_C2_098.png is a low contrast image\n",
      "  warn('%s is a low contrast image' % fname)\n"
     ]
    },
    {
     "name": "stdout",
     "output_type": "stream",
     "text": [
      "../data/cetres.b/refdataB_C2_099.png\n"
     ]
    },
    {
     "name": "stderr",
     "output_type": "stream",
     "text": [
      "/usr/local/lib/python3.6/site-packages/skimage/io/_io.py:132: UserWarning: ../data/cetres.b/refdataB_C2_099.png is a low contrast image\n",
      "  warn('%s is a low contrast image' % fname)\n"
     ]
    },
    {
     "name": "stdout",
     "output_type": "stream",
     "text": [
      "../data/cetres.b/refdataB_C2_100.png\n"
     ]
    },
    {
     "name": "stderr",
     "output_type": "stream",
     "text": [
      "/usr/local/lib/python3.6/site-packages/skimage/io/_io.py:132: UserWarning: ../data/cetres.b/refdataB_C2_100.png is a low contrast image\n",
      "  warn('%s is a low contrast image' % fname)\n"
     ]
    },
    {
     "name": "stdout",
     "output_type": "stream",
     "text": [
      "../data/cetres.b/refdataB_C2_101.png\n"
     ]
    },
    {
     "name": "stderr",
     "output_type": "stream",
     "text": [
      "/usr/local/lib/python3.6/site-packages/skimage/io/_io.py:132: UserWarning: ../data/cetres.b/refdataB_C2_101.png is a low contrast image\n",
      "  warn('%s is a low contrast image' % fname)\n"
     ]
    },
    {
     "name": "stdout",
     "output_type": "stream",
     "text": [
      "../data/cetres.b/refdataB_C2_102.png\n"
     ]
    },
    {
     "name": "stderr",
     "output_type": "stream",
     "text": [
      "/usr/local/lib/python3.6/site-packages/skimage/io/_io.py:132: UserWarning: ../data/cetres.b/refdataB_C2_102.png is a low contrast image\n",
      "  warn('%s is a low contrast image' % fname)\n"
     ]
    },
    {
     "name": "stdout",
     "output_type": "stream",
     "text": [
      "../data/cetres.b/refdataB_C2_103.png\n"
     ]
    },
    {
     "name": "stderr",
     "output_type": "stream",
     "text": [
      "/usr/local/lib/python3.6/site-packages/skimage/io/_io.py:132: UserWarning: ../data/cetres.b/refdataB_C2_103.png is a low contrast image\n",
      "  warn('%s is a low contrast image' % fname)\n"
     ]
    },
    {
     "name": "stdout",
     "output_type": "stream",
     "text": [
      "../data/cetres.b/refdataB_C2_104.png\n"
     ]
    },
    {
     "name": "stderr",
     "output_type": "stream",
     "text": [
      "/usr/local/lib/python3.6/site-packages/skimage/io/_io.py:132: UserWarning: ../data/cetres.b/refdataB_C2_104.png is a low contrast image\n",
      "  warn('%s is a low contrast image' % fname)\n"
     ]
    },
    {
     "name": "stdout",
     "output_type": "stream",
     "text": [
      "../data/cetres.b/refdataB_C2_105.png\n"
     ]
    },
    {
     "name": "stderr",
     "output_type": "stream",
     "text": [
      "/usr/local/lib/python3.6/site-packages/skimage/io/_io.py:132: UserWarning: ../data/cetres.b/refdataB_C2_105.png is a low contrast image\n",
      "  warn('%s is a low contrast image' % fname)\n"
     ]
    },
    {
     "name": "stdout",
     "output_type": "stream",
     "text": [
      "../data/cetres.b/refdataB_C2_106.png\n",
      "../data/cetres.b/refdataB_C2_107.png\n"
     ]
    },
    {
     "name": "stderr",
     "output_type": "stream",
     "text": [
      "/usr/local/lib/python3.6/site-packages/skimage/io/_io.py:132: UserWarning: ../data/cetres.b/refdataB_C2_107.png is a low contrast image\n",
      "  warn('%s is a low contrast image' % fname)\n"
     ]
    },
    {
     "name": "stdout",
     "output_type": "stream",
     "text": [
      "../data/cetres.b/refdataB_C2_108.png\n"
     ]
    },
    {
     "name": "stderr",
     "output_type": "stream",
     "text": [
      "/usr/local/lib/python3.6/site-packages/skimage/io/_io.py:132: UserWarning: ../data/cetres.b/refdataB_C2_108.png is a low contrast image\n",
      "  warn('%s is a low contrast image' % fname)\n"
     ]
    },
    {
     "name": "stdout",
     "output_type": "stream",
     "text": [
      "../data/cetres.b/refdataB_C2_109.png\n"
     ]
    },
    {
     "name": "stderr",
     "output_type": "stream",
     "text": [
      "/usr/local/lib/python3.6/site-packages/skimage/io/_io.py:132: UserWarning: ../data/cetres.b/refdataB_C2_109.png is a low contrast image\n",
      "  warn('%s is a low contrast image' % fname)\n"
     ]
    },
    {
     "name": "stdout",
     "output_type": "stream",
     "text": [
      "../data/cetres.b/refdataB_C2_110.png\n",
      "../data/cetres.b/refdataB_C2_111.png\n",
      "../data/cetres.b/refdataB_C2_112.png\n",
      "../data/cetres.b/refdataB_C2_113.png\n",
      "../data/cetres.b/refdataB_C2_114.png\n",
      "../data/cetres.b/refdataB_C2_115.png\n",
      "../data/cetres.b/refdataB_C2_116.png\n",
      "../data/cetres.b/refdataB_C2_117.png\n",
      "../data/cetres.b/refdataB_C2_118.png\n",
      "../data/cetres.b/refdataB_C2_119.png\n",
      "../data/cetres.b/refdataB_C2_120.png\n",
      "../data/cetres.b/refdataB_C2_121.png\n",
      "../data/cetres.b/refdataB_C2_122.png\n",
      "../data/cetres.b/refdataB_C2_123.png\n",
      "../data/cetres.b/refdataB_C2_124.png\n",
      "../data/cetres.b/refdataB_C2_125.png\n",
      "../data/cetres.b/refdataB_C2_126.png\n",
      "../data/cetres.b/refdataB_C2_127.png\n",
      "../data/cetres.b/refdataB_C2_128.png\n",
      "../data/cetres.b/refdataB_C2_129.png\n",
      "../data/cetres.b/refdataB_C2_130.png\n",
      "../data/cetres.b/refdataB_C2_131.png\n",
      "../data/cetres.b/refdataB_C2_132.png\n",
      "../data/cetres.b/refdataB_C2_133.png\n",
      "../data/cetres.b/refdataB_C2_134.png\n",
      "../data/cetres.b/refdataB_C2_135.png\n",
      "../data/cetres.b/refdataB_C2_136.png\n",
      "../data/cetres.b/refdataB_C2_137.png\n",
      "../data/cetres.b/refdataB_C2_138.png\n",
      "../data/cetres.b/refdataB_C2_139.png\n",
      "../data/cetres.b/refdataB_C2_140.png\n",
      "../data/cetres.b/refdataB_C2_141.png\n",
      "../data/cetres.b/refdataB_C2_142.png\n",
      "../data/cetres.b/refdataB_C2_143.png\n",
      "../data/cetres.b/refdataB_C2_144.png\n",
      "../data/cetres.b/refdataB_C2_145.png\n",
      "../data/cetres.b/refdataB_C2_146.png\n",
      "../data/cetres.b/refdataB_C2_147.png\n",
      "../data/cetres.b/refdataB_C2_148.png\n",
      "../data/cetres.b/refdataB_C2_149.png\n",
      "../data/cetres.b/refdataB_C2_150.png\n",
      "../data/cetres.b/refdataB_C2_151.png\n",
      "../data/cetres.b/refdataB_C2_152.png\n",
      "../data/cetres.b/refdataB_C2_153.png\n",
      "../data/cetres.b/refdataB_C2_154.png\n",
      "../data/cetres.b/refdataB_C2_155.png\n",
      "../data/cetres.b/refdataB_C2_156.png\n",
      "../data/cetres.b/refdataB_C2_157.png\n",
      "../data/cetres.b/refdataB_C2_158.png\n",
      "../data/cetres.b/refdataB_C2_159.png\n",
      "../data/cetres.b/refdataB_C2_160.png\n",
      "../data/cetres.b/refdataB_C2_161.png\n",
      "../data/cetres.b/refdataB_C2_162.png\n",
      "../data/cetres.b/refdataB_C2_163.png\n",
      "../data/cetres.b/refdataB_C2_164.png\n",
      "../data/cetres.b/refdataB_C2_165.png\n",
      "../data/cetres.b/refdataB_C2_166.png\n",
      "../data/cetres.b/refdataB_C2_167.png\n",
      "../data/cetres.b/refdataB_C2_168.png\n",
      "../data/cetres.b/refdataB_C2_169.png\n",
      "../data/cetres.b/refdataB_C2_170.png\n",
      "../data/cetres.b/refdataB_C2_171.png\n",
      "../data/cetres.b/refdataB_C2_172.png\n",
      "../data/cetres.b/refdataB_C2_173.png\n",
      "../data/cetres.b/refdataB_C2_174.png\n",
      "../data/cetres.b/refdataB_C2_175.png\n",
      "../data/cetres.b/refdataB_C2_176.png\n",
      "../data/cetres.b/refdataB_C2_177.png\n",
      "../data/cetres.b/refdataB_C2_178.png\n",
      "../data/cetres.b/refdataB_C2_179.png\n",
      "../data/cetres.b/refdataB_C2_180.png\n",
      "../data/cetres.b/refdataB_C2_181.png\n",
      "../data/cetres.b/refdataB_C2_182.png\n",
      "../data/cetres.b/refdataB_C2_183.png\n",
      "../data/cetres.b/refdataB_C2_184.png\n",
      "../data/cetres.b/refdataB_C2_185.png\n",
      "../data/cetres.b/refdataB_C2_186.png\n",
      "../data/cetres.b/refdataB_C2_187.png\n",
      "../data/cetres.b/refdataB_C2_188.png\n",
      "../data/cetres.b/refdataB_C2_189.png\n",
      "../data/cetres.b/refdataB_C2_190.png\n",
      "../data/cetres.b/refdataB_C2_191.png\n",
      "../data/cetres.b/refdataB_C2_192.png\n",
      "../data/cetres.b/refdataB_C2_193.png\n",
      "../data/cetres.b/refdataB_C2_194.png\n",
      "../data/cetres.b/refdataB_C2_195.png\n",
      "../data/cetres.b/refdataB_C2_196.png\n",
      "../data/cetres.b/refdataB_C2_197.png\n",
      "../data/cetres.b/refdataB_C2_198.png\n",
      "../data/cetres.b/refdataB_C2_199.png\n",
      "../data/cetres.b/refdataB_C2_200.png\n",
      "../data/cetres.b/refdataB_C2_201.png\n",
      "../data/cetres.b/refdataB_C2_202.png\n",
      "../data/cetres.b/refdataB_C2_203.png\n",
      "../data/cetres.b/refdataB_C2_204.png\n",
      "../data/cetres.b/refdataB_C2_205.png\n",
      "../data/cetres.b/refdataB_C2_206.png\n",
      "../data/cetres.b/refdataB_C2_207.png\n",
      "../data/cetres.b/refdataB_C2_208.png\n",
      "../data/cetres.b/refdataB_C2_209.png\n",
      "../data/cetres.b/refdataB_C2_210.png\n",
      "../data/cetres.b/refdataB_C2_211.png\n",
      "../data/cetres.b/refdataB_C2_212.png\n",
      "../data/cetres.b/refdataB_C2_213.png\n",
      "../data/cetres.b/refdataB_C2_214.png\n",
      "../data/cetres.b/refdataB_C2_215.png\n",
      "../data/cetres.b/refdataB_C2_216.png\n",
      "../data/cetres.b/refdataB_C2_217.png\n",
      "../data/cetres.b/refdataB_C2_218.png\n",
      "../data/cetres.b/refdataB_C2_219.png\n",
      "../data/cetres.b/refdataB_C2_220.png\n",
      "../data/cetres.b/refdataB_C2_221.png\n",
      "../data/cetres.b/refdataB_C2_222.png\n",
      "../data/cetres.b/refdataB_C2_223.png\n",
      "../data/cetres.b/refdataB_C2_224.png\n",
      "../data/cetres.b/refdataB_C2_225.png\n",
      "../data/cetres.b/refdataB_C2_226.png\n",
      "../data/cetres.b/refdataB_C2_227.png\n",
      "../data/cetres.b/refdataB_C2_228.png\n",
      "../data/cetres.b/refdataB_C2_229.png\n",
      "../data/cetres.b/refdataB_C2_230.png\n",
      "../data/cetres.b/refdataB_C2_231.png\n",
      "../data/cetres.b/refdataB_C2_232.png\n",
      "../data/cetres.b/refdataB_C2_233.png\n",
      "../data/cetres.b/refdataB_C2_234.png\n",
      "../data/cetres.b/refdataB_C2_235.png\n",
      "../data/cetres.b/refdataB_C2_236.png\n",
      "../data/cetres.b/refdataB_C2_237.png\n",
      "../data/cetres.b/refdataB_C2_238.png\n",
      "../data/cetres.b/refdataB_C2_239.png\n",
      "../data/cetres.b/refdataB_C2_240.png\n",
      "../data/cetres.b/refdataB_C2_241.png\n",
      "../data/cetres.b/refdataB_C2_242.png\n",
      "../data/cetres.b/refdataB_C2_243.png\n",
      "../data/cetres.b/refdataB_C2_244.png\n",
      "../data/cetres.b/refdataB_C2_245.png\n",
      "../data/cetres.b/refdataB_C2_246.png\n",
      "../data/cetres.b/refdataB_C2_247.png\n",
      "../data/cetres.b/refdataB_C2_248.png\n",
      "../data/cetres.b/refdataB_C2_249.png\n",
      "../data/cetres.b/refdataB_C2_250.png\n",
      "../data/cetres.b/refdataB_C2_251.png\n",
      "../data/cetres.b/refdataB_C2_252.png\n",
      "../data/cetres.b/refdataB_C2_253.png\n",
      "../data/cetres.b/refdataB_C2_254.png\n",
      "../data/cetres.b/refdataB_C2_255.png\n",
      "../data/cetres.b/refdataB_C2_256.png\n",
      "../data/cetres.b/refdataB_C2_257.png\n",
      "../data/cetres.b/refdataB_C2_258.png\n",
      "../data/cetres.b/refdataB_C2_259.png\n",
      "../data/cetres.b/refdataB_C2_260.png\n",
      "../data/cetres.b/refdataB_C2_261.png\n",
      "../data/cetres.b/refdataB_C2_262.png\n",
      "../data/cetres.b/refdataB_C2_263.png\n",
      "../data/cetres.b/refdataB_C2_264.png\n",
      "../data/cetres.b/refdataB_C2_265.png\n",
      "../data/cetres.b/refdataB_C2_266.png\n",
      "../data/cetres.b/refdataB_C2_267.png\n",
      "../data/cetres.b/refdataB_C2_268.png\n",
      "../data/cetres.b/refdataB_C2_269.png\n",
      "../data/cetres.b/refdataB_C2_270.png\n",
      "../data/cetres.b/refdataB_C2_271.png\n",
      "../data/cetres.b/refdataB_C2_272.png\n",
      "../data/cetres.b/refdataB_C2_273.png\n",
      "../data/cetres.b/refdataB_C2_274.png\n",
      "../data/cetres.b/refdataB_C2_275.png\n",
      "../data/cetres.b/refdataB_C2_276.png\n",
      "../data/cetres.b/refdataB_C2_277.png\n",
      "../data/cetres.b/refdataB_C2_278.png\n",
      "../data/cetres.b/refdataB_C2_279.png\n",
      "../data/cetres.b/refdataB_C2_280.png\n",
      "../data/cetres.b/refdataB_C2_281.png\n",
      "../data/cetres.b/refdataB_C2_282.png\n",
      "../data/cetres.b/refdataB_C2_283.png\n",
      "../data/cetres.b/refdataB_C2_284.png\n",
      "../data/cetres.b/refdataB_C2_285.png\n",
      "../data/cetres.b/refdataB_C2_286.png\n",
      "../data/cetres.b/refdataB_C2_287.png\n",
      "../data/cetres.b/refdataB_C2_288.png\n",
      "../data/cetres.b/refdataB_C2_289.png\n",
      "../data/cetres.b/refdataB_C2_290.png\n",
      "../data/cetres.b/refdataB_C2_291.png\n",
      "../data/cetres.b/refdataB_C2_292.png\n",
      "../data/cetres.b/refdataB_C2_293.png\n",
      "../data/cetres.b/refdataB_C2_294.png\n",
      "../data/cetres.b/refdataB_C2_295.png\n",
      "../data/cetres.b/refdataB_C2_296.png\n",
      "../data/cetres.b/refdataB_C2_297.png\n",
      "../data/cetres.b/refdataB_C2_298.png\n",
      "../data/cetres.b/refdataB_C2_299.png\n",
      "../data/cetres.b/refdataB_C2_300.png\n",
      "../data/cetres.b/refdataB_C2_301.png\n",
      "../data/cetres.b/refdataB_C2_302.png\n",
      "../data/cetres.b/refdataB_C2_303.png\n",
      "../data/cetres.b/refdataB_C2_304.png\n",
      "../data/cetres.b/refdataB_C2_305.png\n",
      "../data/cetres.b/refdataB_C2_306.png\n",
      "../data/cetres.b/refdataB_C2_307.png\n",
      "../data/cetres.b/refdataB_C2_308.png\n",
      "../data/cetres.b/refdataB_C2_309.png\n",
      "../data/cetres.b/refdataB_C2_310.png\n",
      "../data/cetres.b/refdataB_C2_311.png\n",
      "../data/cetres.b/refdataB_C2_312.png\n",
      "../data/cetres.b/refdataB_C2_313.png\n",
      "../data/cetres.b/refdataB_C2_314.png\n",
      "../data/cetres.b/refdataB_C2_315.png\n",
      "../data/cetres.b/refdataB_C2_316.png\n",
      "../data/cetres.b/refdataB_C2_317.png\n",
      "../data/cetres.b/refdataB_C2_318.png\n",
      "../data/cetres.b/refdataB_C2_319.png\n",
      "../data/cetres.b/refdataB_C2_320.png\n",
      "../data/cetres.b/refdataB_C2_321.png\n",
      "../data/cetres.b/refdataB_C2_322.png\n",
      "../data/cetres.b/refdataB_C2_323.png\n",
      "../data/cetres.b/refdataB_C2_324.png\n",
      "../data/cetres.b/refdataB_C2_325.png\n",
      "../data/cetres.b/refdataB_C2_326.png\n",
      "../data/cetres.b/refdataB_C2_327.png\n",
      "../data/cetres.b/refdataB_C2_328.png\n",
      "../data/cetres.b/refdataB_C2_329.png\n",
      "../data/cetres.b/refdataB_C2_330.png\n",
      "../data/cetres.b/refdataB_C2_331.png\n",
      "../data/cetres.b/refdataB_C2_332.png\n",
      "../data/cetres.b/refdataB_C2_333.png\n",
      "../data/cetres.b/refdataB_C2_334.png\n",
      "../data/cetres.b/refdataB_C2_335.png\n",
      "../data/cetres.b/refdataB_C2_336.png\n",
      "../data/cetres.b/refdataB_C2_337.png\n",
      "../data/cetres.b/refdataB_C2_338.png\n",
      "../data/cetres.b/refdataB_C2_339.png\n",
      "../data/cetres.b/refdataB_C2_340.png\n",
      "../data/cetres.b/refdataB_C2_341.png\n",
      "../data/cetres.b/refdataB_C2_342.png\n",
      "../data/cetres.b/refdataB_C2_343.png\n",
      "../data/cetres.b/refdataB_C2_344.png\n",
      "../data/cetres.b/refdataB_C2_345.png\n",
      "../data/cetres.b/refdataB_C2_346.png\n",
      "../data/cetres.b/refdataB_C2_347.png\n",
      "../data/cetres.b/refdataB_C2_348.png\n",
      "../data/cetres.b/refdataB_C2_349.png\n",
      "../data/cetres.b/refdataB_C2_350.png\n",
      "../data/cetres.b/refdataB_C2_351.png\n",
      "../data/cetres.b/refdataB_C2_352.png\n",
      "../data/cetres.b/refdataB_C2_353.png\n",
      "../data/cetres.b/refdataB_C2_354.png\n",
      "../data/cetres.b/refdataB_C2_355.png\n",
      "../data/cetres.b/refdataB_C2_356.png\n",
      "../data/cetres.b/refdataB_C2_357.png\n",
      "../data/cetres.b/refdataB_C2_358.png\n",
      "../data/cetres.b/refdataB_C2_359.png\n",
      "../data/cetres.b/refdataB_C2_360.png\n",
      "../data/cetres.b/refdataB_C2_361.png\n",
      "../data/cetres.b/refdataB_C2_362.png\n",
      "../data/cetres.b/refdataB_C2_363.png\n",
      "../data/cetres.b/refdataB_C2_364.png\n",
      "../data/cetres.b/refdataB_C2_365.png\n",
      "../data/cetres.b/refdataB_C2_366.png\n",
      "../data/cetres.b/refdataB_C2_367.png\n",
      "../data/cetres.b/refdataB_C2_368.png\n",
      "../data/cetres.b/refdataB_C2_369.png\n",
      "../data/cetres.b/refdataB_C2_370.png\n",
      "../data/cetres.b/refdataB_C2_371.png\n",
      "../data/cetres.b/refdataB_C2_372.png\n",
      "../data/cetres.b/refdataB_C2_373.png\n",
      "../data/cetres.b/refdataB_C2_374.png\n",
      "../data/cetres.b/refdataB_C2_375.png\n",
      "../data/cetres.b/refdataB_C2_376.png\n",
      "../data/cetres.b/refdataB_C2_377.png\n",
      "../data/cetres.b/refdataB_C2_378.png\n",
      "../data/cetres.b/refdataB_C2_379.png\n",
      "../data/cetres.b/refdataB_C2_380.png\n",
      "../data/cetres.b/refdataB_C2_381.png\n",
      "../data/cetres.b/refdataB_C2_382.png\n",
      "../data/cetres.b/refdataB_C2_383.png\n",
      "../data/cetres.b/refdataB_C2_384.png\n",
      "../data/cetres.b/refdataB_C2_385.png\n",
      "../data/cetres.b/refdataB_C2_386.png\n",
      "../data/cetres.b/refdataB_C2_387.png\n",
      "../data/cetres.b/refdataB_C2_388.png\n",
      "../data/cetres.b/refdataB_C2_389.png\n",
      "../data/cetres.b/refdataB_C2_390.png\n",
      "../data/cetres.b/refdataB_C2_391.png\n",
      "../data/cetres.b/refdataB_C2_392.png\n",
      "../data/cetres.b/refdataB_C2_393.png\n",
      "../data/cetres.b/refdataB_C2_394.png\n",
      "../data/cetres.b/refdataB_C2_395.png\n",
      "../data/cetres.b/refdataB_C2_396.png\n",
      "../data/cetres.b/refdataB_C2_397.png\n",
      "../data/cetres.b/refdataB_C2_398.png\n",
      "../data/cetres.b/refdataB_C2_399.png\n"
     ]
    }
   ],
   "source": [
    "imageDir = '../data/cetres.b/'\n",
    "labelDir = '../data/mask/'\n",
    "\n",
    "templateFileList = os.listdir(imageDir)\n",
    "\n",
    "for fname in templateFileList:\n",
    "    image_name = imageDir + fname\n",
    "    print(image_name)\n",
    "    I = skimage.io.imread(image_name)\n",
    "    I = skimage.color.gray2rgb(I)\n",
    "    I.shape\n",
    "    skimage.io.imsave(image_name,I)"
   ]
  },
  {
   "cell_type": "markdown",
   "metadata": {
    "deletable": true,
    "editable": true
   },
   "source": [
    "\n"
   ]
  },
  {
   "cell_type": "code",
   "execution_count": 18,
   "metadata": {
    "collapsed": false,
    "deletable": true,
    "editable": true
   },
   "outputs": [
    {
     "data": {
      "text/plain": [
       "'refdataB_C2_002.png'"
      ]
     },
     "execution_count": 18,
     "metadata": {},
     "output_type": "execute_result"
    }
   ],
   "source": [
    "templateFileList[2]"
   ]
  },
  {
   "cell_type": "code",
   "execution_count": null,
   "metadata": {
    "collapsed": false,
    "deletable": true,
    "editable": true
   },
   "outputs": [],
   "source": []
  },
  {
   "cell_type": "code",
   "execution_count": null,
   "metadata": {
    "collapsed": false,
    "deletable": true,
    "editable": true
   },
   "outputs": [],
   "source": []
  },
  {
   "cell_type": "code",
   "execution_count": null,
   "metadata": {
    "collapsed": false,
    "deletable": true,
    "editable": true
   },
   "outputs": [],
   "source": []
  },
  {
   "cell_type": "code",
   "execution_count": null,
   "metadata": {
    "collapsed": false,
    "deletable": true,
    "editable": true
   },
   "outputs": [],
   "source": []
  }
 ],
 "metadata": {
  "kernelspec": {
   "display_name": "Python 3",
   "language": "python",
   "name": "python3"
  },
  "language_info": {
   "codemirror_mode": {
    "name": "ipython",
    "version": 3
   },
   "file_extension": ".py",
   "mimetype": "text/x-python",
   "name": "python",
   "nbconvert_exporter": "python",
   "pygments_lexer": "ipython3",
   "version": "3.6.2"
  }
 },
 "nbformat": 4,
 "nbformat_minor": 2
}
