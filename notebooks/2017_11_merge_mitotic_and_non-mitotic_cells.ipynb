{
 "cells": [
  {
   "cell_type": "markdown",
   "metadata": {},
   "source": [
    "# Merge bounding boxes for mitotic and non-mitotic cells\n"
   ]
  },
  {
   "cell_type": "code",
   "execution_count": null,
   "metadata": {},
   "outputs": [],
   "source": [
    "import json\n",
    "import skimage.io"
   ]
  },
  {
   "cell_type": "code",
   "execution_count": null,
   "metadata": {},
   "outputs": [],
   "source": [
    "data_dir = '../data/'"
   ]
  },
  {
   "cell_type": "code",
   "execution_count": null,
   "metadata": {},
   "outputs": [],
   "source": [
    "with open(data_dir + 'bbox_mitosis.json', 'r') as fp:\n",
    "    m_list = json.loads(fp.read())\n",
    "    \n",
    "with open(data_dir + 'bbox_cells_enlarged.json', 'r') as fp:\n",
    "    c_list = json.loads(fp.read())\n",
    "\n",
    "sorted_c_list = sorted(c_list, key=lambda x: x[\"filename\"])\n",
    "sorted_m_list = sorted(m_list, key=lambda x: x[\"filename\"])\n"
   ]
  },
  {
   "cell_type": "code",
   "execution_count": null,
   "metadata": {},
   "outputs": [],
   "source": [
    "# keep all frames \n",
    "m_idx = 0\n",
    "for c in sorted_c_list:\n",
    "    if sorted_m_list[m_idx][\"filename\"] == c[\"filename\"]:\n",
    "        c[\"boxes\"] += sorted_m_list[m_idx][\"boxes\"]\n",
    "        m_idx += 1\n",
    "        \n",
    "with open('../data/bbox_complete.json', 'w') as fp:\n",
    "    json.dump(sorted_c_list, fp, indent=4)"
   ]
  },
  {
   "cell_type": "code",
   "execution_count": null,
   "metadata": {},
   "outputs": [],
   "source": [
    "# keep only frames with mitotic cells \n",
    "for m in sorted_m_list:\n",
    "    filename = m[\"filename\"]\n",
    "    print(filename)\n",
    "    bbox_cells = [x for x in sorted_c_list if x['filename'] == filename]\n",
    "    print(bbox_cells[0][\"filename\"])\n",
    "    m[\"boxes\"] += bbox_cells[0][\"boxes\"]\n",
    "    \n",
    "with open('../data/bbox_complete.json', 'w') as fp:\n",
    "    json.dump(sorted_m_list, fp, indent=4)"
   ]
  },
  {
   "cell_type": "code",
   "execution_count": null,
   "metadata": {},
   "outputs": [],
   "source": [
    "bbox_cells[0][\"filename\"]"
   ]
  },
  {
   "cell_type": "code",
   "execution_count": null,
   "metadata": {},
   "outputs": [],
   "source": [
    "sorted_m_list[2]['boxes']"
   ]
  },
  {
   "cell_type": "code",
   "execution_count": null,
   "metadata": {},
   "outputs": [],
   "source": []
  }
 ],
 "metadata": {
  "kernelspec": {
   "display_name": "Python 3",
   "language": "python",
   "name": "python3"
  },
  "language_info": {
   "codemirror_mode": {
    "name": "ipython",
    "version": 3
   },
   "file_extension": ".py",
   "mimetype": "text/x-python",
   "name": "python",
   "nbconvert_exporter": "python",
   "pygments_lexer": "ipython3",
   "version": "3.6.4"
  }
 },
 "nbformat": 4,
 "nbformat_minor": 2
}
