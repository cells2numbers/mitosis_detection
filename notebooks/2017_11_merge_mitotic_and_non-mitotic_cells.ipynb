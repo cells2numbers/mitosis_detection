{
 "cells": [
  {
   "cell_type": "markdown",
   "metadata": {},
   "source": [
    "# Merge bounding boxes for mitotic and non-mitotic cells\n"
   ]
  },
  {
   "cell_type": "code",
   "execution_count": 1,
   "metadata": {
    "collapsed": true
   },
   "outputs": [],
   "source": [
    "import json\n",
    "import skimage.io"
   ]
  },
  {
   "cell_type": "code",
   "execution_count": 2,
   "metadata": {
    "collapsed": false
   },
   "outputs": [],
   "source": [
    "data_dir = '../data/'"
   ]
  },
  {
   "cell_type": "code",
   "execution_count": 3,
   "metadata": {
    "collapsed": true,
    "deletable": true,
    "editable": true
   },
   "outputs": [],
   "source": [
    "with open(data_dir + 'bbox_mitosis.json', 'r') as fp:\n",
    "    m_list = json.loads(fp.read())\n",
    "    \n",
    "with open(data_dir + 'bbox_cells_enlarged.json', 'r') as fp:\n",
    "    c_list = json.loads(fp.read())\n",
    "\n",
    "sorted_c_list = sorted(c_list, key=lambda x: x[\"filename\"])\n",
    "sorted_m_list = sorted(m_list, key=lambda x: x[\"filename\"])"
   ]
  },
  {
   "cell_type": "code",
   "execution_count": 4,
   "metadata": {
    "collapsed": true
   },
   "outputs": [],
   "source": [
    "m_idx = 0\n",
    "\n",
    "for c in sorted_c_list:\n",
    "    if sorted_m_list[m_idx][\"filename\"] == c[\"filename\"]:\n",
    "        c[\"boxes\"] += sorted_m_list[m_idx][\"boxes\"]\n",
    "        m_idx += 1"
   ]
  },
  {
   "cell_type": "code",
   "execution_count": 5,
   "metadata": {
    "collapsed": true
   },
   "outputs": [],
   "source": [
    "with open('../data/bbox_complete.json', 'w') as fp:\n",
    "    json.dump(sorted_c_list, fp, indent=4)"
   ]
  }
 ],
 "metadata": {
  "kernelspec": {
   "display_name": "Python 3",
   "language": "python",
   "name": "python3"
  },
  "language_info": {
   "codemirror_mode": {
    "name": "ipython",
    "version": 3
   },
   "file_extension": ".py",
   "mimetype": "text/x-python",
   "name": "python",
   "nbconvert_exporter": "python",
   "pygments_lexer": "ipython3",
   "version": "3.6.2"
  }
 },
 "nbformat": 4,
 "nbformat_minor": 2
}
