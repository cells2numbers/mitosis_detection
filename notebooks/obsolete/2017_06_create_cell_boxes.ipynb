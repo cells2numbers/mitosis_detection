{
 "cells": [
  {
   "cell_type": "markdown",
   "metadata": {
    "deletable": true,
    "editable": true
   },
   "source": [
    "The cetres reference set 2 is used to create a training and test set for cell and mitosis detection. \n",
    "\n",
    "The bounding boxes for all cells are created using the cell masks from the cetres.b data set. The bounding boxes for all mitoses are loaded as .json file. \n",
    "\n",
    "In this notebook \n",
    "* create bounding boxes for all cells inlcuding mitotic cells (dictionary cellBoxes with key = filename)\n",
    "* load bounding boxes for all mitotic cells (dictionary mitosesBoxes with key = filename)\n",
    "* identify all mitotic cells in cellBoxes and change the label from \"cell\" to \"mitotsis\""
   ]
  },
  {
   "cell_type": "code",
   "execution_count": 2,
   "metadata": {
    "collapsed": true,
    "deletable": true,
    "editable": true
   },
   "outputs": [],
   "source": [
    "%matplotlib notebook \n",
    "\n",
    "import csv\n",
    "import json\n",
    "import numpy \n",
    "import os\n",
    "import sys\n",
    "import time\n",
    "\n",
    "import skimage.color\n",
    "import skimage.io\n",
    "import skimage.measure\n",
    "import skimage.transform\n",
    "\n",
    "import matplotlib.patches\n",
    "import matplotlib.path\n",
    "import matplotlib.pyplot\n",
    "import matplotlib.transforms"
   ]
  },
  {
   "cell_type": "markdown",
   "metadata": {
    "deletable": true,
    "editable": true
   },
   "source": [
    "Functions to access the reference data (images as well as labels). Regions properties are generated using skimage.measure()"
   ]
  },
  {
   "cell_type": "code",
   "execution_count": 3,
   "metadata": {
    "collapsed": false,
    "deletable": true,
    "editable": true
   },
   "outputs": [],
   "source": [
    "imageDir = '../data/cetres.b/'\n",
    "labelDir = '../data/mask/'\n",
    "\n",
    "\n",
    "# load image given the image number\n",
    "def loadImage(frameNr, imageDir):\n",
    "    image = skimage.io.imread(imageDir + frame2ImageName(frameNr))\n",
    "    return skimage.color.rgb2gray(image)\n",
    "\n",
    "# load image given the image number\n",
    "def loadLabel(frameNr, imageDir):\n",
    "    data = numpy.genfromtxt(imageDir + frame2LabelName(frameNr), dtype=int, delimiter=',')\n",
    "    return data\n",
    "\n",
    "def frame2ImageName(frameNr):\n",
    "    return('refdataB_C2_' + \"%03i.png\" % (frameNr,))\n",
    "\n",
    "def frame2LabelName(frameNr):\n",
    "     return('refdataB_' + \"%03i.txt\" % (frameNr,))\n",
    "\n",
    "def label2regionprops(labelDir, frameNr, offset):\n",
    "    L = loadLabel(frameNr, labelDir)\n",
    "    labels = skimage.measure.label(L)\n",
    "    return(skimage.measure.regionprops(labels))\n",
    "\n",
    "\n",
    "# json file used for export \n",
    "fileOut = '2017_cetres_samples.json'\n"
   ]
  },
  {
   "cell_type": "markdown",
   "metadata": {
    "deletable": true,
    "editable": true
   },
   "source": [
    "Generate all bounding boxes for all cell masks given in CeTReS B. offset defines the number of pixel the bounding box is increased in each direction (size of bbox is increased by 2*offset) "
   ]
  },
  {
   "cell_type": "code",
   "execution_count": 8,
   "metadata": {
    "collapsed": false,
    "deletable": true,
    "editable": true
   },
   "outputs": [
    {
     "ename": "KeyboardInterrupt",
     "evalue": "",
     "output_type": "error",
     "traceback": [
      "\u001b[0;31m---------------------------------------------------------------------------\u001b[0m",
      "\u001b[0;31mKeyboardInterrupt\u001b[0m                         Traceback (most recent call last)",
      "\u001b[0;32m<ipython-input-8-1537d52bfb8f>\u001b[0m in \u001b[0;36m<module>\u001b[0;34m()\u001b[0m\n\u001b[1;32m      3\u001b[0m \u001b[0mcellBBoxes\u001b[0m \u001b[0;34m=\u001b[0m \u001b[0;34m{\u001b[0m\u001b[0;34m}\u001b[0m\u001b[0;34m\u001b[0m\u001b[0m\n\u001b[1;32m      4\u001b[0m \u001b[0;32mfor\u001b[0m \u001b[0mframe\u001b[0m \u001b[0;32min\u001b[0m \u001b[0mrange\u001b[0m\u001b[0;34m(\u001b[0m\u001b[0;36m1\u001b[0m\u001b[0;34m,\u001b[0m\u001b[0;36m400\u001b[0m\u001b[0;34m)\u001b[0m\u001b[0;34m:\u001b[0m\u001b[0;34m\u001b[0m\u001b[0m\n\u001b[0;32m----> 5\u001b[0;31m     \u001b[0;32mfor\u001b[0m \u001b[0mregion\u001b[0m \u001b[0;32min\u001b[0m \u001b[0mlabel2regionprops\u001b[0m\u001b[0;34m(\u001b[0m\u001b[0mlabelDir\u001b[0m\u001b[0;34m,\u001b[0m \u001b[0mframe\u001b[0m\u001b[0;34m,\u001b[0m \u001b[0moffset\u001b[0m\u001b[0;34m)\u001b[0m\u001b[0;34m:\u001b[0m\u001b[0;34m\u001b[0m\u001b[0m\n\u001b[0m\u001b[1;32m      6\u001b[0m         \u001b[0mcount\u001b[0m \u001b[0;34m=\u001b[0m \u001b[0mcount\u001b[0m \u001b[0;34m+\u001b[0m \u001b[0;36m1\u001b[0m\u001b[0;34m\u001b[0m\u001b[0m\n\u001b[1;32m      7\u001b[0m         \u001b[0;32mtry\u001b[0m\u001b[0;34m:\u001b[0m \u001b[0mcellBBoxes\u001b[0m\u001b[0;34m[\u001b[0m\u001b[0mframe2ImageName\u001b[0m\u001b[0;34m(\u001b[0m\u001b[0mframe\u001b[0m\u001b[0;34m)\u001b[0m\u001b[0;34m]\u001b[0m\u001b[0;34m.\u001b[0m\u001b[0mappend\u001b[0m\u001b[0;34m(\u001b[0m\u001b[0mregion\u001b[0m\u001b[0;34m.\u001b[0m\u001b[0mbbox\u001b[0m\u001b[0;34m)\u001b[0m\u001b[0;34m\u001b[0m\u001b[0m\n",
      "\u001b[0;32m<ipython-input-7-37a937da6ffd>\u001b[0m in \u001b[0;36mlabel2regionprops\u001b[0;34m(labelDir, frameNr, offset)\u001b[0m\n\u001b[1;32m     20\u001b[0m \u001b[0;34m\u001b[0m\u001b[0m\n\u001b[1;32m     21\u001b[0m \u001b[0;32mdef\u001b[0m \u001b[0mlabel2regionprops\u001b[0m\u001b[0;34m(\u001b[0m\u001b[0mlabelDir\u001b[0m\u001b[0;34m,\u001b[0m \u001b[0mframeNr\u001b[0m\u001b[0;34m,\u001b[0m \u001b[0moffset\u001b[0m\u001b[0;34m)\u001b[0m\u001b[0;34m:\u001b[0m\u001b[0;34m\u001b[0m\u001b[0m\n\u001b[0;32m---> 22\u001b[0;31m     \u001b[0mL\u001b[0m \u001b[0;34m=\u001b[0m \u001b[0mloadLabel\u001b[0m\u001b[0;34m(\u001b[0m\u001b[0mframeNr\u001b[0m\u001b[0;34m,\u001b[0m \u001b[0mlabelDir\u001b[0m\u001b[0;34m)\u001b[0m\u001b[0;34m\u001b[0m\u001b[0m\n\u001b[0m\u001b[1;32m     23\u001b[0m     \u001b[0mlabels\u001b[0m \u001b[0;34m=\u001b[0m \u001b[0mskimage\u001b[0m\u001b[0;34m.\u001b[0m\u001b[0mmeasure\u001b[0m\u001b[0;34m.\u001b[0m\u001b[0mlabel\u001b[0m\u001b[0;34m(\u001b[0m\u001b[0mL\u001b[0m\u001b[0;34m)\u001b[0m\u001b[0;34m\u001b[0m\u001b[0m\n\u001b[1;32m     24\u001b[0m     \u001b[0;32mreturn\u001b[0m\u001b[0;34m(\u001b[0m\u001b[0mskimage\u001b[0m\u001b[0;34m.\u001b[0m\u001b[0mmeasure\u001b[0m\u001b[0;34m.\u001b[0m\u001b[0mregionprops\u001b[0m\u001b[0;34m(\u001b[0m\u001b[0mlabels\u001b[0m\u001b[0;34m)\u001b[0m\u001b[0;34m)\u001b[0m\u001b[0;34m\u001b[0m\u001b[0m\n",
      "\u001b[0;32m<ipython-input-7-37a937da6ffd>\u001b[0m in \u001b[0;36mloadLabel\u001b[0;34m(frameNr, imageDir)\u001b[0m\n\u001b[1;32m     10\u001b[0m \u001b[0;31m# load image given the image number\u001b[0m\u001b[0;34m\u001b[0m\u001b[0;34m\u001b[0m\u001b[0m\n\u001b[1;32m     11\u001b[0m \u001b[0;32mdef\u001b[0m \u001b[0mloadLabel\u001b[0m\u001b[0;34m(\u001b[0m\u001b[0mframeNr\u001b[0m\u001b[0;34m,\u001b[0m \u001b[0mimageDir\u001b[0m\u001b[0;34m)\u001b[0m\u001b[0;34m:\u001b[0m\u001b[0;34m\u001b[0m\u001b[0m\n\u001b[0;32m---> 12\u001b[0;31m     \u001b[0mdata\u001b[0m \u001b[0;34m=\u001b[0m \u001b[0mnumpy\u001b[0m\u001b[0;34m.\u001b[0m\u001b[0mgenfromtxt\u001b[0m\u001b[0;34m(\u001b[0m\u001b[0mimageDir\u001b[0m \u001b[0;34m+\u001b[0m \u001b[0mframe2LabelName\u001b[0m\u001b[0;34m(\u001b[0m\u001b[0mframeNr\u001b[0m\u001b[0;34m)\u001b[0m\u001b[0;34m,\u001b[0m \u001b[0mdtype\u001b[0m\u001b[0;34m=\u001b[0m\u001b[0mint\u001b[0m\u001b[0;34m,\u001b[0m \u001b[0mdelimiter\u001b[0m\u001b[0;34m=\u001b[0m\u001b[0;34m','\u001b[0m\u001b[0;34m)\u001b[0m\u001b[0;34m\u001b[0m\u001b[0m\n\u001b[0m\u001b[1;32m     13\u001b[0m     \u001b[0;32mreturn\u001b[0m \u001b[0mdata\u001b[0m\u001b[0;34m\u001b[0m\u001b[0m\n\u001b[1;32m     14\u001b[0m \u001b[0;34m\u001b[0m\u001b[0m\n",
      "\u001b[0;32m/usr/local/lib/python3.6/site-packages/numpy/lib/npyio.py\u001b[0m in \u001b[0;36mgenfromtxt\u001b[0;34m(fname, dtype, comments, delimiter, skip_header, skip_footer, converters, missing_values, filling_values, usecols, names, excludelist, deletechars, replace_space, autostrip, case_sensitive, defaultfmt, unpack, usemask, loose, invalid_raise, max_rows)\u001b[0m\n\u001b[1;32m   1842\u001b[0m         rows = list(\n\u001b[1;32m   1843\u001b[0m             zip(*[[conv._loose_call(_r) for _r in map(itemgetter(i), rows)]\n\u001b[0;32m-> 1844\u001b[0;31m                   for (i, conv) in enumerate(converters)]))\n\u001b[0m\u001b[1;32m   1845\u001b[0m     \u001b[0;32melse\u001b[0m\u001b[0;34m:\u001b[0m\u001b[0;34m\u001b[0m\u001b[0m\n\u001b[1;32m   1846\u001b[0m         rows = list(\n",
      "\u001b[0;32m/usr/local/lib/python3.6/site-packages/numpy/lib/npyio.py\u001b[0m in \u001b[0;36m<listcomp>\u001b[0;34m(.0)\u001b[0m\n\u001b[1;32m   1842\u001b[0m         rows = list(\n\u001b[1;32m   1843\u001b[0m             zip(*[[conv._loose_call(_r) for _r in map(itemgetter(i), rows)]\n\u001b[0;32m-> 1844\u001b[0;31m                   for (i, conv) in enumerate(converters)]))\n\u001b[0m\u001b[1;32m   1845\u001b[0m     \u001b[0;32melse\u001b[0m\u001b[0;34m:\u001b[0m\u001b[0;34m\u001b[0m\u001b[0m\n\u001b[1;32m   1846\u001b[0m         rows = list(\n",
      "\u001b[0;32m/usr/local/lib/python3.6/site-packages/numpy/lib/npyio.py\u001b[0m in \u001b[0;36m<listcomp>\u001b[0;34m(.0)\u001b[0m\n\u001b[1;32m   1841\u001b[0m     \u001b[0;32mif\u001b[0m \u001b[0mloose\u001b[0m\u001b[0;34m:\u001b[0m\u001b[0;34m\u001b[0m\u001b[0m\n\u001b[1;32m   1842\u001b[0m         rows = list(\n\u001b[0;32m-> 1843\u001b[0;31m             zip(*[[conv._loose_call(_r) for _r in map(itemgetter(i), rows)]\n\u001b[0m\u001b[1;32m   1844\u001b[0m                   for (i, conv) in enumerate(converters)]))\n\u001b[1;32m   1845\u001b[0m     \u001b[0;32melse\u001b[0m\u001b[0;34m:\u001b[0m\u001b[0;34m\u001b[0m\u001b[0m\n",
      "\u001b[0;32m/usr/local/lib/python3.6/site-packages/numpy/lib/_iotools.py\u001b[0m in \u001b[0;36m_loose_call\u001b[0;34m(self, value)\u001b[0m\n\u001b[1;32m    690\u001b[0m     \u001b[0;32mdef\u001b[0m \u001b[0m_loose_call\u001b[0m\u001b[0;34m(\u001b[0m\u001b[0mself\u001b[0m\u001b[0;34m,\u001b[0m \u001b[0mvalue\u001b[0m\u001b[0;34m)\u001b[0m\u001b[0;34m:\u001b[0m\u001b[0;34m\u001b[0m\u001b[0m\n\u001b[1;32m    691\u001b[0m         \u001b[0;32mtry\u001b[0m\u001b[0;34m:\u001b[0m\u001b[0;34m\u001b[0m\u001b[0m\n\u001b[0;32m--> 692\u001b[0;31m             \u001b[0;32mreturn\u001b[0m \u001b[0mself\u001b[0m\u001b[0;34m.\u001b[0m\u001b[0mfunc\u001b[0m\u001b[0;34m(\u001b[0m\u001b[0mvalue\u001b[0m\u001b[0;34m)\u001b[0m\u001b[0;34m\u001b[0m\u001b[0m\n\u001b[0m\u001b[1;32m    693\u001b[0m         \u001b[0;32mexcept\u001b[0m \u001b[0mValueError\u001b[0m\u001b[0;34m:\u001b[0m\u001b[0;34m\u001b[0m\u001b[0m\n\u001b[1;32m    694\u001b[0m             \u001b[0;32mreturn\u001b[0m \u001b[0mself\u001b[0m\u001b[0;34m.\u001b[0m\u001b[0mdefault\u001b[0m\u001b[0;34m\u001b[0m\u001b[0m\n",
      "\u001b[0;31mKeyboardInterrupt\u001b[0m: "
     ]
    }
   ],
   "source": [
    "offset = 12\n",
    "count = 0\n",
    "cellBBoxes = {}\n",
    "for frame in range(1,400):\n",
    "    for region in label2regionprops(labelDir, frame, offset):\n",
    "        count = count + 1\n",
    "        try: cellBBoxes[frame2ImageName(frame)].append(region.bbox)\n",
    "        except: cellBBoxes[frame2ImageName(frame)] = [region.bbox ]\n",
    "print(count)"
   ]
  },
  {
   "cell_type": "code",
   "execution_count": 3,
   "metadata": {
    "collapsed": false,
    "deletable": true,
    "editable": true
   },
   "outputs": [
    {
     "ename": "NameError",
     "evalue": "name 'cellBBoxes' is not defined",
     "output_type": "error",
     "traceback": [
      "\u001b[0;31m---------------------------------------------------------------------------\u001b[0m",
      "\u001b[0;31mNameError\u001b[0m                                 Traceback (most recent call last)",
      "\u001b[0;32m<ipython-input-3-aac1eabce948>\u001b[0m in \u001b[0;36m<module>\u001b[0;34m()\u001b[0m\n\u001b[1;32m      1\u001b[0m \u001b[0mframeNr\u001b[0m \u001b[0;34m=\u001b[0m \u001b[0;36m5\u001b[0m\u001b[0;34m\u001b[0m\u001b[0m\n\u001b[0;32m----> 2\u001b[0;31m \u001b[0mprint\u001b[0m\u001b[0;34m(\u001b[0m\u001b[0mcellBBoxes\u001b[0m\u001b[0;34m[\u001b[0m\u001b[0mframe2ImageName\u001b[0m\u001b[0;34m(\u001b[0m\u001b[0mframeNr\u001b[0m\u001b[0;34m)\u001b[0m\u001b[0;34m]\u001b[0m\u001b[0;34m)\u001b[0m\u001b[0;34m\u001b[0m\u001b[0m\n\u001b[0m\u001b[1;32m      3\u001b[0m \u001b[0mbboxes\u001b[0m \u001b[0;34m=\u001b[0m \u001b[0mcellBBoxes\u001b[0m\u001b[0;34m[\u001b[0m\u001b[0mframe2ImageName\u001b[0m\u001b[0;34m(\u001b[0m\u001b[0mframeNr\u001b[0m\u001b[0;34m)\u001b[0m\u001b[0;34m]\u001b[0m\u001b[0;34m\u001b[0m\u001b[0m\n\u001b[1;32m      4\u001b[0m \u001b[0;34m\u001b[0m\u001b[0m\n",
      "\u001b[0;31mNameError\u001b[0m: name 'cellBBoxes' is not defined"
     ]
    }
   ],
   "source": [
    "frameNr = 5\n",
    "print(cellBBoxes[frame2ImageName(frameNr)])\n",
    "bboxes = cellBBoxes[frame2ImageName(frameNr)]\n",
    "\n"
   ]
  },
  {
   "cell_type": "code",
   "execution_count": 1,
   "metadata": {
    "collapsed": false,
    "deletable": true,
    "editable": true
   },
   "outputs": [
    {
     "ename": "NameError",
     "evalue": "name 'loadImage' is not defined",
     "output_type": "error",
     "traceback": [
      "\u001b[0;31m---------------------------------------------------------------------------\u001b[0m",
      "\u001b[0;31mNameError\u001b[0m                                 Traceback (most recent call last)",
      "\u001b[0;32m<ipython-input-1-0dd038617f52>\u001b[0m in \u001b[0;36m<module>\u001b[0;34m()\u001b[0m\n\u001b[1;32m      2\u001b[0m \u001b[0mframeNr\u001b[0m \u001b[0;34m=\u001b[0m \u001b[0;36m100\u001b[0m\u001b[0;34m\u001b[0m\u001b[0m\n\u001b[1;32m      3\u001b[0m \u001b[0;34m\u001b[0m\u001b[0m\n\u001b[0;32m----> 4\u001b[0;31m \u001b[0mI\u001b[0m \u001b[0;34m=\u001b[0m \u001b[0mloadImage\u001b[0m\u001b[0;34m(\u001b[0m\u001b[0mframeNr\u001b[0m\u001b[0;34m,\u001b[0m \u001b[0mimageDir\u001b[0m\u001b[0;34m)\u001b[0m\u001b[0;34m\u001b[0m\u001b[0m\n\u001b[0m\u001b[1;32m      5\u001b[0m \u001b[0;34m\u001b[0m\u001b[0m\n\u001b[1;32m      6\u001b[0m \u001b[0mfig\u001b[0m\u001b[0;34m,\u001b[0m \u001b[0max\u001b[0m \u001b[0;34m=\u001b[0m \u001b[0mmatplotlib\u001b[0m\u001b[0;34m.\u001b[0m\u001b[0mpyplot\u001b[0m\u001b[0;34m.\u001b[0m\u001b[0msubplots\u001b[0m\u001b[0;34m(\u001b[0m\u001b[0mfigsize\u001b[0m\u001b[0;34m=\u001b[0m\u001b[0;34m(\u001b[0m\u001b[0;36m10\u001b[0m\u001b[0;34m,\u001b[0m \u001b[0;36m6\u001b[0m\u001b[0;34m)\u001b[0m\u001b[0;34m)\u001b[0m\u001b[0;34m\u001b[0m\u001b[0m\n",
      "\u001b[0;31mNameError\u001b[0m: name 'loadImage' is not defined"
     ]
    }
   ],
   "source": [
    "offset = 12\n",
    "frameNr = 100\n",
    "\n",
    "I = loadImage(frameNr, imageDir)\n",
    "\n",
    "fig, ax = matplotlib.pyplot.subplots(figsize=(10, 6))\n",
    "ax.imshow(I,cmap=\"gray\")\n",
    "\n",
    "for region in label2regionprops(labelDir, frameNr, offset):\n",
    "    # take regions with large enough areas\n",
    "    if region.area >= 10:\n",
    "        # draw rectangle around segmented coins\n",
    "        minr, minc, maxr, maxc = region.bbox\n",
    "        rect = matplotlib.patches.Rectangle((minc - offset, minr - offset), maxc - minc + 2*offset, \n",
    "                                            maxr - minr + 2*offset, fill = False, edgecolor = 'red', \n",
    "                                            linewidth = 2)\n",
    "        ax.add_patch(rect)\n",
    "\n",
    "ax.set_axis_off()\n",
    "matplotlib.pyplot.tight_layout()\n",
    "matplotlib.pyplot.show()"
   ]
  },
  {
   "cell_type": "code",
   "execution_count": 4,
   "metadata": {
    "collapsed": false,
    "deletable": true,
    "editable": true
   },
   "outputs": [
    {
     "name": "stdout",
     "output_type": "stream",
     "text": [
      "[[ 20.  10.]\n",
      " [ 30.  30.]]\n"
     ]
    }
   ],
   "source": [
    "# code from here\n",
    "# https://stackoverflow.com/questions/25349178/calculating-percentage-of-bounding-box-overlap-for-image-detector-evaluation\n",
    "def clip_boxes(box0, box1):\n",
    "    path_coords = numpy.array([[box0[0, 0], box0[0, 1]],\n",
    "                            [box0[1, 0], box0[0, 1]],\n",
    "                            [box0[1, 0], box0[1, 1]],\n",
    "                            [box0[0, 0], box0[1, 1]]])\n",
    "\n",
    "    poly = matplotlib.path.Path(numpy.vstack((path_coords[:, 0],\n",
    "                                path_coords[:, 1])).T, closed=True)\n",
    "    clip_rect = matplotlib.transforms.Bbox(box1)\n",
    "\n",
    "    poly_clipped = poly.clip_to_bbox(clip_rect).to_polygons()[0]\n",
    "\n",
    "    return numpy.array([numpy.min(poly_clipped, axis=0),\n",
    "                     numpy.max(poly_clipped, axis=0)])\n",
    "\n",
    "box1 = numpy.array([[0, 0], [30, 30]])\n",
    "box0 = numpy.array([[20, 10], [30, 30]])\n",
    "\n",
    "print(clip_boxes(box0, box1))\n",
    "\n"
   ]
  },
  {
   "cell_type": "code",
   "execution_count": null,
   "metadata": {
    "collapsed": false,
    "deletable": true,
    "editable": true
   },
   "outputs": [],
   "source": [
    "# load boxes for all mitotic cells \n",
    "mitosisSamples = json.load(open('../../../../mitosis/json_files/all_samples.json') )\n",
    "\n",
    "mitosisSamples = {}\n",
    "for ms in mitosisSamples:\n",
    "    for box in ms[\"boxes\"]:\n",
    "        try: boxes_in_images[ms[\"filename\"]].append(box)\n",
    "        except: boxes_in_images[ms[\"filename\"]] = [ box ]\n",
    "#print(boxes_in_images)\n",
    "\n",
    "for filename in boxes_in_images.keys():\n",
    "    allBoxes = boxes_in_images[filename]\n",
    "    #print(filename, allBoxes)\n",
    "    #mitoticBoxes\n",
    "    \n",
    "print(boxes_in_images)"
   ]
  }
 ],
 "metadata": {
  "kernelspec": {
   "display_name": "Python 3",
   "language": "python",
   "name": "python3"
  },
  "language_info": {
   "codemirror_mode": {
    "name": "ipython",
    "version": 3
   },
   "file_extension": ".py",
   "mimetype": "text/x-python",
   "name": "python",
   "nbconvert_exporter": "python",
   "pygments_lexer": "ipython3",
   "version": "3.6.2"
  }
 },
 "nbformat": 4,
 "nbformat_minor": 2
}
