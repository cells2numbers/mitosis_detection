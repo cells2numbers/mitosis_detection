{
 "cells": [
  {
   "cell_type": "code",
   "execution_count": null,
   "metadata": {},
   "outputs": [],
   "source": [
    "%matplotlib notebook \n",
    "import json\n",
    "import numpy \n",
    "import os\n",
    "import sys\n",
    "import time\n",
    "\n",
    "import skimage.io\n",
    "import skimage.transform\n",
    "import skimage.color\n",
    "import skimage.feature \n",
    "import skimage.measure\n",
    "\n",
    "import scipy.signal\n",
    "import scipy.ndimage\n",
    "\n",
    "import matplotlib.pyplot\n",
    "import matplotlib.patches"
   ]
  },
  {
   "cell_type": "markdown",
   "metadata": {},
   "source": [
    "# Create bounding boxes for all non mitotic cells\n",
    "This notebook performs three tasks\n",
    "1. Bounding boxes for all reference cells are created \n",
    "2. All bounding boxes for mitotic cells are removed \n",
    "3. The remaining bounding boxes are enlarged by a defined offset "
   ]
  },
  {
   "cell_type": "code",
   "execution_count": null,
   "metadata": {},
   "outputs": [],
   "source": [
    "data_dir = '../data/'\n",
    "filename_mitosis = data_dir + 'bbox_mitosis.json' \n",
    "mask_dir = data_dir + 'mask/'\n",
    "image_dir = '../data/cetres.b_adapted/'\n",
    "offset = 12"
   ]
  },
  {
   "cell_type": "code",
   "execution_count": null,
   "metadata": {},
   "outputs": [],
   "source": [
    "def to_dict(x1, y1, x2, y2):\n",
    "    return {\n",
    "        \"class\": \"cell\",\n",
    "        \"x1\": y1,\n",
    "        \"x2\": y2,\n",
    "        \"y1\": x1,\n",
    "        \"y2\": x2\n",
    "    }\n",
    "\n",
    "def box_list(pathname):\n",
    "    image = skimage.io.imread(pathname)\n",
    "    region_list = skimage.measure.regionprops(image)\n",
    "    return [to_dict(*region.bbox) for region in region_list]\n",
    "\n",
    "# load image given the image number\n",
    "def getImage(frameNr, image_dir):\n",
    "    imageName = 'refdataB_C2_' + \"%03i.png\" % (frameNr,)\n",
    "    image =  skimage.io.imread(image_dir + imageName)\n",
    "    return skimage.color.rgb2gray(image)\n",
    "\n",
    "\n"
   ]
  },
  {
   "cell_type": "markdown",
   "metadata": {},
   "source": [
    "# Read reference data\n",
    "All reference images are loaded and all stored masks are stored as a bbox. Remember that this list includes all cells including mitotic cells!"
   ]
  },
  {
   "cell_type": "code",
   "execution_count": null,
   "metadata": {},
   "outputs": [],
   "source": [
    "# read all cell masks \n",
    "import glob\n",
    "\n",
    "pathnames = glob.glob(mask_dir + \"ref*.png\")\n",
    "\n",
    "template_list = []\n",
    "\n",
    "for pathname in pathnames:\n",
    "    template = {\n",
    "        \"boxes\": box_list(pathname),\n",
    "        \"filename\": os.path.basename(pathname),\n",
    "        \"shape\" : [1038, 1376, 3]\n",
    "    }\n",
    "    \n",
    "    template_list += [template]"
   ]
  },
  {
   "cell_type": "markdown",
   "metadata": {},
   "source": [
    "## Load bounding boxes of all mitotic cells \n",
    "These data is created using the notebook  ```2017_06_create_mitosis_bbox_template_matching```"
   ]
  },
  {
   "cell_type": "code",
   "execution_count": null,
   "metadata": {},
   "outputs": [],
   "source": [
    "# load mitotic cells \n",
    "\n",
    "with open(filename_mitosis, \"r\") as f:\n",
    "    mitosis_list = json.loads(f.read())"
   ]
  },
  {
   "cell_type": "code",
   "execution_count": null,
   "metadata": {},
   "outputs": [],
   "source": [
    "# sort the stuff \n",
    "sorted_mitosis_list = sorted(mitosis_list, key=lambda element: element[\"filename\"])\n",
    "sorted_cell_list = sorted(template_list, key=lambda element: element[\"filename\"])\n",
    "sorted_mitosis_list[1]"
   ]
  },
  {
   "cell_type": "markdown",
   "metadata": {},
   "source": [
    "## Sample image"
   ]
  },
  {
   "cell_type": "code",
   "execution_count": null,
   "metadata": {},
   "outputs": [],
   "source": [
    "I_cell = skimage.io.imread(\"../data/cetres.b_adapted/refdataB_C2_014.png\")\n",
    "\n",
    "fig, ax = matplotlib.pyplot.subplots(figsize=(10, 6))\n",
    "ax.imshow(I_cell,cmap=\"gray\")     \n",
    "    \n",
    "minr, minc, maxr, maxc = [38, 419, 61, 442]\n",
    "rect = matplotlib.patches.Rectangle((minc, minr), maxc - minc, \n",
    "                                    maxr - minr, fill = False, edgecolor = 'red', \n",
    "                                    linewidth = 2)\n",
    "ax.add_patch(rect)\n",
    "\n",
    "minr, minc, maxr, maxc = [30, 410, 71, 451]\n",
    "rect = matplotlib.patches.Rectangle((minc, minr), maxc - minc, \n",
    "                                    maxr - minr, fill = False, edgecolor = 'blue', \n",
    "                                    linewidth = 2)\n",
    "ax.add_patch(rect)"
   ]
  },
  {
   "cell_type": "markdown",
   "metadata": {},
   "source": [
    "## Remove mitotic cells "
   ]
  },
  {
   "cell_type": "code",
   "execution_count": null,
   "metadata": {},
   "outputs": [],
   "source": [
    "def norm2(x1,x2,y1,y2):\n",
    "    return (numpy.sqrt((x1-x2)*(x1-x2) + (y1 - y2)*(y1 - y2)))\n",
    "\n",
    "def same_bounding_box(bbox1, bbox2):\n",
    "    x1 = 1/2 * (bbox1[\"x1\"] + bbox1[\"x2\"]) \n",
    "    x2 = 1/2 * (bbox2[\"x1\"] + bbox2[\"x2\"]) \n",
    "    y1 = 1/2 * (bbox1[\"y1\"] + bbox1[\"y2\"]) \n",
    "    y2 = 1/2 * (bbox2[\"y1\"] + bbox2[\"y2\"])\n",
    "    return (norm2(x1,x2,y1,y2) < 15)\n",
    "\n",
    "def remove_duplicates(mito_list, cell_list):\n",
    "    bad_cells = []\n",
    "\n",
    "    for mito_box in mito_list[\"boxes\"]:\n",
    "        for cell_box in cell_list[\"boxes\"]:\n",
    "            if same_bounding_box(cell_box, mito_box):\n",
    "                bad_cells += [cell_box]\n",
    "                break\n",
    "\n",
    "    for bad_cell in bad_cells:\n",
    "        try:\n",
    "            cell_list[\"boxes\"].remove(bad_cell)\n",
    "        except ValueError as e:\n",
    "            continue\n",
    "            \n",
    "    return bad_cells"
   ]
  },
  {
   "cell_type": "code",
   "execution_count": null,
   "metadata": {},
   "outputs": [],
   "source": [
    "duplicate_cells = []\n",
    "\n",
    "for mito_list in sorted_mitosis_list:\n",
    "    for cell_list in sorted_cell_list:\n",
    "        if cell_list[\"filename\"][-7:] == mito_list[\"filename\"][-7:]:\n",
    "            duplicate_cells += [remove_duplicates(mito_list, cell_list)] "
   ]
  },
  {
   "cell_type": "markdown",
   "metadata": {},
   "source": [
    "## Enlarge bounding boxes "
   ]
  },
  {
   "cell_type": "code",
   "execution_count": null,
   "metadata": {},
   "outputs": [],
   "source": [
    "x,y,z = skimage.io.imread('../data/cetres.b/refdataB_C2_001.png').shape\n",
    "print(x,y)\n"
   ]
  },
  {
   "cell_type": "code",
   "execution_count": null,
   "metadata": {},
   "outputs": [],
   "source": [
    "\n",
    "for element in sorted_cell_list:\n",
    "    print(element[\"filename\"])\n",
    "    for box in element[\"boxes\"]:\n",
    "        box[\"x1\"] = max(0, box[\"x1\"] - offset)\n",
    "        box[\"x2\"] = min(y, box[\"x2\"] + offset)\n",
    "        box[\"y1\"] = max(0, box[\"y1\"] - offset)\n",
    "        box[\"y2\"] = min(x, box[\"y2\"] + offset)\n",
    "        if (box[\"x1\"] > box[\"x2\"]):\n",
    "            print(\"x1 > x2!\")\n",
    "        if (box[\"y1\"] > box[\"y2\"]):\n",
    "            print(\"y1 > y2! \")"
   ]
  },
  {
   "cell_type": "code",
   "execution_count": null,
   "metadata": {},
   "outputs": [],
   "source": [
    "with open('../data/bbox_cells_enlarged.json', 'w') as fp:\n",
    "    json.dump(sorted_cell_list, fp, indent=4)"
   ]
  },
  {
   "cell_type": "code",
   "execution_count": null,
   "metadata": {},
   "outputs": [],
   "source": [
    "# todo: write iterator over images to find entries for \n",
    "#\n",
    "def get_frame_data(cell_list, frame):\n",
    "    filename = 'refdataB_C2_' + \"%03i.png\" % (frame)\n",
    "    matches = [x for x in cell_list if x['filename'] == filename]\n",
    "    if not matches:\n",
    "        return []\n",
    "    else:\n",
    "        return(matches[0])\n",
    "    \n",
    "print(get_frame_data(sorted_mitosis_list,1))\n",
    "print(get_frame_data(sorted_cell_list,1))"
   ]
  },
  {
   "cell_type": "code",
   "execution_count": null,
   "metadata": {},
   "outputs": [],
   "source": [
    "# using matplotlib we can updated the figure each iteration \n",
    "fig, ax = matplotlib.pyplot.subplots(figsize=(8, 6))\n",
    "\n",
    "frame_one = sorted_cell_list[1]\n",
    "\n",
    "    \n",
    "    \n",
    "for frame in range(100,101,1):   \n",
    "    # clear axis to remove patches (rect objects)\n",
    "    matplotlib.pyplot.cla()\n",
    "    cellImage = getImage(frame, image_dir)\n",
    "    ax.imshow(cellImage,cmap='gray')\n",
    "    matplotlib.pyplot.axis('off')\n",
    "    # ignore frames without mitotic events\n",
    "    \n",
    "    frame_data = get_frame_data(sorted_cell_list, frame)\n",
    "    #print(frame, frame_data)\n",
    "    if frame_data:\n",
    "        for box in frame_data[\"boxes\"]:\n",
    "            x1 = box['x1']\n",
    "            x2 = box['x2'] \n",
    "            y1 = box['y1'] \n",
    "            y2 = box['y2']\n",
    "            matplotlib.pyplot.plot([x1, x2], [y1, y1], 'r-')\n",
    "            matplotlib.pyplot.plot([x1, x2], [y2, y2], 'r-')\n",
    "            matplotlib.pyplot.plot([x2, x2], [y1, y2], 'r-')\n",
    "            matplotlib.pyplot.plot([x1, x1], [y1, y2], 'r-')\n",
    "    fig.canvas.draw()    "
   ]
  }
 ],
 "metadata": {
  "kernelspec": {
   "display_name": "Python 3",
   "language": "python",
   "name": "python3"
  },
  "language_info": {
   "codemirror_mode": {
    "name": "ipython",
    "version": 3
   },
   "file_extension": ".py",
   "mimetype": "text/x-python",
   "name": "python",
   "nbconvert_exporter": "python",
   "pygments_lexer": "ipython3",
   "version": "3.6.4"
  }
 },
 "nbformat": 4,
 "nbformat_minor": 2
}
